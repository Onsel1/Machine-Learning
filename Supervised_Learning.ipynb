{
 "cells": [
  {
   "cell_type": "markdown",
   "metadata": {},
   "source": [
    "# I-Jeux de données:\n",
    "## 1.Iris:"
   ]
  },
  {
   "cell_type": "code",
   "execution_count": 1,
   "metadata": {},
   "outputs": [
    {
     "data": {
      "text/html": [
       "\n",
       "        <iframe\n",
       "            width=\"300\"\n",
       "            height=\"200\"\n",
       "            src=\"http://archive.ics.uci.edu/ml/machine-learning-databases/iris/iris.data\"\n",
       "            frameborder=\"0\"\n",
       "            allowfullscreen\n",
       "        ></iframe>\n",
       "        "
      ],
      "text/plain": [
       "<IPython.lib.display.IFrame at 0x2377c1323a0>"
      ]
     },
     "execution_count": 1,
     "metadata": {},
     "output_type": "execute_result"
    }
   ],
   "source": [
    "from IPython.display import IFrame\n",
    "IFrame('http://archive.ics.uci.edu/ml/machine-learning-databases/iris/iris.data',width=300, height=200)"
   ]
  },
  {
   "cell_type": "code",
   "execution_count": 2,
   "metadata": {},
   "outputs": [
    {
     "name": "stdout",
     "output_type": "stream",
     "text": [
      "[[5.1 3.5 1.4 0.2]\n",
      " [4.9 3.  1.4 0.2]\n",
      " [4.7 3.2 1.3 0.2]\n",
      " [4.6 3.1 1.5 0.2]\n",
      " [5.  3.6 1.4 0.2]\n",
      " [5.4 3.9 1.7 0.4]\n",
      " [4.6 3.4 1.4 0.3]\n",
      " [5.  3.4 1.5 0.2]\n",
      " [4.4 2.9 1.4 0.2]\n",
      " [4.9 3.1 1.5 0.1]\n",
      " [5.4 3.7 1.5 0.2]\n",
      " [4.8 3.4 1.6 0.2]\n",
      " [4.8 3.  1.4 0.1]\n",
      " [4.3 3.  1.1 0.1]\n",
      " [5.8 4.  1.2 0.2]\n",
      " [5.7 4.4 1.5 0.4]\n",
      " [5.4 3.9 1.3 0.4]\n",
      " [5.1 3.5 1.4 0.3]\n",
      " [5.7 3.8 1.7 0.3]\n",
      " [5.1 3.8 1.5 0.3]\n",
      " [5.4 3.4 1.7 0.2]\n",
      " [5.1 3.7 1.5 0.4]\n",
      " [4.6 3.6 1.  0.2]\n",
      " [5.1 3.3 1.7 0.5]\n",
      " [4.8 3.4 1.9 0.2]\n",
      " [5.  3.  1.6 0.2]\n",
      " [5.  3.4 1.6 0.4]\n",
      " [5.2 3.5 1.5 0.2]\n",
      " [5.2 3.4 1.4 0.2]\n",
      " [4.7 3.2 1.6 0.2]\n",
      " [4.8 3.1 1.6 0.2]\n",
      " [5.4 3.4 1.5 0.4]\n",
      " [5.2 4.1 1.5 0.1]\n",
      " [5.5 4.2 1.4 0.2]\n",
      " [4.9 3.1 1.5 0.2]\n",
      " [5.  3.2 1.2 0.2]\n",
      " [5.5 3.5 1.3 0.2]\n",
      " [4.9 3.6 1.4 0.1]\n",
      " [4.4 3.  1.3 0.2]\n",
      " [5.1 3.4 1.5 0.2]\n",
      " [5.  3.5 1.3 0.3]\n",
      " [4.5 2.3 1.3 0.3]\n",
      " [4.4 3.2 1.3 0.2]\n",
      " [5.  3.5 1.6 0.6]\n",
      " [5.1 3.8 1.9 0.4]\n",
      " [4.8 3.  1.4 0.3]\n",
      " [5.1 3.8 1.6 0.2]\n",
      " [4.6 3.2 1.4 0.2]\n",
      " [5.3 3.7 1.5 0.2]\n",
      " [5.  3.3 1.4 0.2]\n",
      " [7.  3.2 4.7 1.4]\n",
      " [6.4 3.2 4.5 1.5]\n",
      " [6.9 3.1 4.9 1.5]\n",
      " [5.5 2.3 4.  1.3]\n",
      " [6.5 2.8 4.6 1.5]\n",
      " [5.7 2.8 4.5 1.3]\n",
      " [6.3 3.3 4.7 1.6]\n",
      " [4.9 2.4 3.3 1. ]\n",
      " [6.6 2.9 4.6 1.3]\n",
      " [5.2 2.7 3.9 1.4]\n",
      " [5.  2.  3.5 1. ]\n",
      " [5.9 3.  4.2 1.5]\n",
      " [6.  2.2 4.  1. ]\n",
      " [6.1 2.9 4.7 1.4]\n",
      " [5.6 2.9 3.6 1.3]\n",
      " [6.7 3.1 4.4 1.4]\n",
      " [5.6 3.  4.5 1.5]\n",
      " [5.8 2.7 4.1 1. ]\n",
      " [6.2 2.2 4.5 1.5]\n",
      " [5.6 2.5 3.9 1.1]\n",
      " [5.9 3.2 4.8 1.8]\n",
      " [6.1 2.8 4.  1.3]\n",
      " [6.3 2.5 4.9 1.5]\n",
      " [6.1 2.8 4.7 1.2]\n",
      " [6.4 2.9 4.3 1.3]\n",
      " [6.6 3.  4.4 1.4]\n",
      " [6.8 2.8 4.8 1.4]\n",
      " [6.7 3.  5.  1.7]\n",
      " [6.  2.9 4.5 1.5]\n",
      " [5.7 2.6 3.5 1. ]\n",
      " [5.5 2.4 3.8 1.1]\n",
      " [5.5 2.4 3.7 1. ]\n",
      " [5.8 2.7 3.9 1.2]\n",
      " [6.  2.7 5.1 1.6]\n",
      " [5.4 3.  4.5 1.5]\n",
      " [6.  3.4 4.5 1.6]\n",
      " [6.7 3.1 4.7 1.5]\n",
      " [6.3 2.3 4.4 1.3]\n",
      " [5.6 3.  4.1 1.3]\n",
      " [5.5 2.5 4.  1.3]\n",
      " [5.5 2.6 4.4 1.2]\n",
      " [6.1 3.  4.6 1.4]\n",
      " [5.8 2.6 4.  1.2]\n",
      " [5.  2.3 3.3 1. ]\n",
      " [5.6 2.7 4.2 1.3]\n",
      " [5.7 3.  4.2 1.2]\n",
      " [5.7 2.9 4.2 1.3]\n",
      " [6.2 2.9 4.3 1.3]\n",
      " [5.1 2.5 3.  1.1]\n",
      " [5.7 2.8 4.1 1.3]\n",
      " [6.3 3.3 6.  2.5]\n",
      " [5.8 2.7 5.1 1.9]\n",
      " [7.1 3.  5.9 2.1]\n",
      " [6.3 2.9 5.6 1.8]\n",
      " [6.5 3.  5.8 2.2]\n",
      " [7.6 3.  6.6 2.1]\n",
      " [4.9 2.5 4.5 1.7]\n",
      " [7.3 2.9 6.3 1.8]\n",
      " [6.7 2.5 5.8 1.8]\n",
      " [7.2 3.6 6.1 2.5]\n",
      " [6.5 3.2 5.1 2. ]\n",
      " [6.4 2.7 5.3 1.9]\n",
      " [6.8 3.  5.5 2.1]\n",
      " [5.7 2.5 5.  2. ]\n",
      " [5.8 2.8 5.1 2.4]\n",
      " [6.4 3.2 5.3 2.3]\n",
      " [6.5 3.  5.5 1.8]\n",
      " [7.7 3.8 6.7 2.2]\n",
      " [7.7 2.6 6.9 2.3]\n",
      " [6.  2.2 5.  1.5]\n",
      " [6.9 3.2 5.7 2.3]\n",
      " [5.6 2.8 4.9 2. ]\n",
      " [7.7 2.8 6.7 2. ]\n",
      " [6.3 2.7 4.9 1.8]\n",
      " [6.7 3.3 5.7 2.1]\n",
      " [7.2 3.2 6.  1.8]\n",
      " [6.2 2.8 4.8 1.8]\n",
      " [6.1 3.  4.9 1.8]\n",
      " [6.4 2.8 5.6 2.1]\n",
      " [7.2 3.  5.8 1.6]\n",
      " [7.4 2.8 6.1 1.9]\n",
      " [7.9 3.8 6.4 2. ]\n",
      " [6.4 2.8 5.6 2.2]\n",
      " [6.3 2.8 5.1 1.5]\n",
      " [6.1 2.6 5.6 1.4]\n",
      " [7.7 3.  6.1 2.3]\n",
      " [6.3 3.4 5.6 2.4]\n",
      " [6.4 3.1 5.5 1.8]\n",
      " [6.  3.  4.8 1.8]\n",
      " [6.9 3.1 5.4 2.1]\n",
      " [6.7 3.1 5.6 2.4]\n",
      " [6.9 3.1 5.1 2.3]\n",
      " [5.8 2.7 5.1 1.9]\n",
      " [6.8 3.2 5.9 2.3]\n",
      " [6.7 3.3 5.7 2.5]\n",
      " [6.7 3.  5.2 2.3]\n",
      " [6.3 2.5 5.  1.9]\n",
      " [6.5 3.  5.2 2. ]\n",
      " [6.2 3.4 5.4 2.3]\n",
      " [5.9 3.  5.1 1.8]]\n",
      "[0 0 0 0 0 0 0 0 0 0 0 0 0 0 0 0 0 0 0 0 0 0 0 0 0 0 0 0 0 0 0 0 0 0 0 0 0\n",
      " 0 0 0 0 0 0 0 0 0 0 0 0 0 1 1 1 1 1 1 1 1 1 1 1 1 1 1 1 1 1 1 1 1 1 1 1 1\n",
      " 1 1 1 1 1 1 1 1 1 1 1 1 1 1 1 1 1 1 1 1 1 1 1 1 1 1 2 2 2 2 2 2 2 2 2 2 2\n",
      " 2 2 2 2 2 2 2 2 2 2 2 2 2 2 2 2 2 2 2 2 2 2 2 2 2 2 2 2 2 2 2 2 2 2 2 2 2\n",
      " 2 2]\n"
     ]
    }
   ],
   "source": [
    "from sklearn import datasets\n",
    "irisData = datasets.load_iris()\n",
    "print (irisData.data)\n",
    "print (irisData.target)"
   ]
  },
  {
   "cell_type": "markdown",
   "metadata": {},
   "source": [
    "## 2. A vous !\n",
    "#### a. Comprendre  et  programmer  les  quelques  lignes  précédentes"
   ]
  },
  {
   "cell_type": "code",
   "execution_count": 3,
   "metadata": {},
   "outputs": [
    {
     "name": "stdout",
     "output_type": "stream",
     "text": [
      ".. _iris_dataset:\n",
      "\n",
      "Iris plants dataset\n",
      "--------------------\n",
      "\n",
      "**Data Set Characteristics:**\n",
      "\n",
      "    :Number of Instances: 150 (50 in each of three classes)\n",
      "    :Number of Attributes: 4 numeric, predictive attributes and the class\n",
      "    :Attribute Information:\n",
      "        - sepal length in cm\n",
      "        - sepal width in cm\n",
      "        - petal length in cm\n",
      "        - petal width in cm\n",
      "        - class:\n",
      "                - Iris-Setosa\n",
      "                - Iris-Versicolour\n",
      "                - Iris-Virginica\n",
      "                \n",
      "    :Summary Statistics:\n",
      "\n",
      "    ============== ==== ==== ======= ===== ====================\n",
      "                    Min  Max   Mean    SD   Class Correlation\n",
      "    ============== ==== ==== ======= ===== ====================\n",
      "    sepal length:   4.3  7.9   5.84   0.83    0.7826\n",
      "    sepal width:    2.0  4.4   3.05   0.43   -0.4194\n",
      "    petal length:   1.0  6.9   3.76   1.76    0.9490  (high!)\n",
      "    petal width:    0.1  2.5   1.20   0.76    0.9565  (high!)\n",
      "    ============== ==== ==== ======= ===== ====================\n",
      "\n",
      "    :Missing Attribute Values: None\n",
      "    :Class Distribution: 33.3% for each of 3 classes.\n",
      "    :Creator: R.A. Fisher\n",
      "    :Donor: Michael Marshall (MARSHALL%PLU@io.arc.nasa.gov)\n",
      "    :Date: July, 1988\n",
      "\n",
      "The famous Iris database, first used by Sir R.A. Fisher. The dataset is taken\n",
      "from Fisher's paper. Note that it's the same as in R, but not as in the UCI\n",
      "Machine Learning Repository, which has two wrong data points.\n",
      "\n",
      "This is perhaps the best known database to be found in the\n",
      "pattern recognition literature.  Fisher's paper is a classic in the field and\n",
      "is referenced frequently to this day.  (See Duda & Hart, for example.)  The\n",
      "data set contains 3 classes of 50 instances each, where each class refers to a\n",
      "type of iris plant.  One class is linearly separable from the other 2; the\n",
      "latter are NOT linearly separable from each other.\n",
      "\n",
      ".. topic:: References\n",
      "\n",
      "   - Fisher, R.A. \"The use of multiple measurements in taxonomic problems\"\n",
      "     Annual Eugenics, 7, Part II, 179-188 (1936); also in \"Contributions to\n",
      "     Mathematical Statistics\" (John Wiley, NY, 1950).\n",
      "   - Duda, R.O., & Hart, P.E. (1973) Pattern Classification and Scene Analysis.\n",
      "     (Q327.D83) John Wiley & Sons.  ISBN 0-471-22361-1.  See page 218.\n",
      "   - Dasarathy, B.V. (1980) \"Nosing Around the Neighborhood: A New System\n",
      "     Structure and Classification Rule for Recognition in Partially Exposed\n",
      "     Environments\".  IEEE Transactions on Pattern Analysis and Machine\n",
      "     Intelligence, Vol. PAMI-2, No. 1, 67-71.\n",
      "   - Gates, G.W. (1972) \"The Reduced Nearest Neighbor Rule\".  IEEE Transactions\n",
      "     on Information Theory, May 1972, 431-433.\n",
      "   - See also: 1988 MLC Proceedings, 54-64.  Cheeseman et al\"s AUTOCLASS II\n",
      "     conceptual clustering system finds 3 classes in the data.\n",
      "   - Many, many more ...\n"
     ]
    }
   ],
   "source": [
    "print(irisData.DESCR)"
   ]
  },
  {
   "cell_type": "code",
   "execution_count": 4,
   "metadata": {},
   "outputs": [],
   "source": [
    "import pandas as pd\n",
    "df = pd.DataFrame(irisData.data, columns = ['sepal length' ,'sepal width','petal length',' petal width'])\n",
    "df['type'] = irisData.target"
   ]
  },
  {
   "cell_type": "code",
   "execution_count": 5,
   "metadata": {},
   "outputs": [
    {
     "data": {
      "text/html": [
       "<div>\n",
       "<style scoped>\n",
       "    .dataframe tbody tr th:only-of-type {\n",
       "        vertical-align: middle;\n",
       "    }\n",
       "\n",
       "    .dataframe tbody tr th {\n",
       "        vertical-align: top;\n",
       "    }\n",
       "\n",
       "    .dataframe thead th {\n",
       "        text-align: right;\n",
       "    }\n",
       "</style>\n",
       "<table border=\"1\" class=\"dataframe\">\n",
       "  <thead>\n",
       "    <tr style=\"text-align: right;\">\n",
       "      <th></th>\n",
       "      <th>sepal length</th>\n",
       "      <th>sepal width</th>\n",
       "      <th>petal length</th>\n",
       "      <th>petal width</th>\n",
       "      <th>type</th>\n",
       "    </tr>\n",
       "  </thead>\n",
       "  <tbody>\n",
       "    <tr>\n",
       "      <th>0</th>\n",
       "      <td>5.1</td>\n",
       "      <td>3.5</td>\n",
       "      <td>1.4</td>\n",
       "      <td>0.2</td>\n",
       "      <td>0</td>\n",
       "    </tr>\n",
       "    <tr>\n",
       "      <th>1</th>\n",
       "      <td>4.9</td>\n",
       "      <td>3.0</td>\n",
       "      <td>1.4</td>\n",
       "      <td>0.2</td>\n",
       "      <td>0</td>\n",
       "    </tr>\n",
       "    <tr>\n",
       "      <th>2</th>\n",
       "      <td>4.7</td>\n",
       "      <td>3.2</td>\n",
       "      <td>1.3</td>\n",
       "      <td>0.2</td>\n",
       "      <td>0</td>\n",
       "    </tr>\n",
       "    <tr>\n",
       "      <th>3</th>\n",
       "      <td>4.6</td>\n",
       "      <td>3.1</td>\n",
       "      <td>1.5</td>\n",
       "      <td>0.2</td>\n",
       "      <td>0</td>\n",
       "    </tr>\n",
       "    <tr>\n",
       "      <th>4</th>\n",
       "      <td>5.0</td>\n",
       "      <td>3.6</td>\n",
       "      <td>1.4</td>\n",
       "      <td>0.2</td>\n",
       "      <td>0</td>\n",
       "    </tr>\n",
       "    <tr>\n",
       "      <th>...</th>\n",
       "      <td>...</td>\n",
       "      <td>...</td>\n",
       "      <td>...</td>\n",
       "      <td>...</td>\n",
       "      <td>...</td>\n",
       "    </tr>\n",
       "    <tr>\n",
       "      <th>145</th>\n",
       "      <td>6.7</td>\n",
       "      <td>3.0</td>\n",
       "      <td>5.2</td>\n",
       "      <td>2.3</td>\n",
       "      <td>2</td>\n",
       "    </tr>\n",
       "    <tr>\n",
       "      <th>146</th>\n",
       "      <td>6.3</td>\n",
       "      <td>2.5</td>\n",
       "      <td>5.0</td>\n",
       "      <td>1.9</td>\n",
       "      <td>2</td>\n",
       "    </tr>\n",
       "    <tr>\n",
       "      <th>147</th>\n",
       "      <td>6.5</td>\n",
       "      <td>3.0</td>\n",
       "      <td>5.2</td>\n",
       "      <td>2.0</td>\n",
       "      <td>2</td>\n",
       "    </tr>\n",
       "    <tr>\n",
       "      <th>148</th>\n",
       "      <td>6.2</td>\n",
       "      <td>3.4</td>\n",
       "      <td>5.4</td>\n",
       "      <td>2.3</td>\n",
       "      <td>2</td>\n",
       "    </tr>\n",
       "    <tr>\n",
       "      <th>149</th>\n",
       "      <td>5.9</td>\n",
       "      <td>3.0</td>\n",
       "      <td>5.1</td>\n",
       "      <td>1.8</td>\n",
       "      <td>2</td>\n",
       "    </tr>\n",
       "  </tbody>\n",
       "</table>\n",
       "<p>150 rows × 5 columns</p>\n",
       "</div>"
      ],
      "text/plain": [
       "     sepal length  sepal width  petal length   petal width  type\n",
       "0             5.1          3.5           1.4           0.2     0\n",
       "1             4.9          3.0           1.4           0.2     0\n",
       "2             4.7          3.2           1.3           0.2     0\n",
       "3             4.6          3.1           1.5           0.2     0\n",
       "4             5.0          3.6           1.4           0.2     0\n",
       "..            ...          ...           ...           ...   ...\n",
       "145           6.7          3.0           5.2           2.3     2\n",
       "146           6.3          2.5           5.0           1.9     2\n",
       "147           6.5          3.0           5.2           2.0     2\n",
       "148           6.2          3.4           5.4           2.3     2\n",
       "149           5.9          3.0           5.1           1.8     2\n",
       "\n",
       "[150 rows x 5 columns]"
      ]
     },
     "execution_count": 5,
     "metadata": {},
     "output_type": "execute_result"
    }
   ],
   "source": [
    "df"
   ]
  },
  {
   "cell_type": "code",
   "execution_count": 6,
   "metadata": {},
   "outputs": [
    {
     "name": "stdout",
     "output_type": "stream",
     "text": [
      "(150, 4)\n"
     ]
    }
   ],
   "source": [
    "print(irisData.data.shape)"
   ]
  },
  {
   "cell_type": "code",
   "execution_count": 7,
   "metadata": {},
   "outputs": [
    {
     "name": "stdout",
     "output_type": "stream",
     "text": [
      "(150,)\n"
     ]
    }
   ],
   "source": [
    "print(irisData.target.shape)"
   ]
  },
  {
   "cell_type": "markdown",
   "metadata": {},
   "source": [
    "##### Input features"
   ]
  },
  {
   "cell_type": "code",
   "execution_count": 8,
   "metadata": {},
   "outputs": [
    {
     "name": "stdout",
     "output_type": "stream",
     "text": [
      "Feature names: ['sepal length (cm)', 'sepal width (cm)', 'petal length (cm)', 'petal width (cm)']\n"
     ]
    }
   ],
   "source": [
    "print(\"Feature names:\",irisData.feature_names)"
   ]
  },
  {
   "cell_type": "markdown",
   "metadata": {},
   "source": [
    "##### Output features"
   ]
  },
  {
   "cell_type": "code",
   "execution_count": 9,
   "metadata": {},
   "outputs": [
    {
     "name": "stdout",
     "output_type": "stream",
     "text": [
      "Target names: ['setosa' 'versicolor' 'virginica']\n"
     ]
    }
   ],
   "source": [
    "print(\"Target names:\",irisData.target_names)"
   ]
  },
  {
   "cell_type": "markdown",
   "metadata": {},
   "source": [
    "##### comment  sont  réparties les données dans les tableaux ?\n",
    "Les données sont réparties dans un tableau de 150 lignes qui respresentent les 150 instances et 5 colonnes qui representent les 4 caractéristiques d'entrée (attributs) et 1 variable de sortie (l'étiquette de classe). \n",
    "Les 4 attributs numériques sont:\n",
    "*   La longueur du sépal en cm\n",
    "*   La largeur du sépal en cm\n",
    "*   La longueur du pétal en cm\n",
    "*   La largeur du pétal en cm\n",
    "*   Les classes :  \n",
    "                   -   Setosa\n",
    "                   -   Versicolour\n",
    "                   -   Virginica"
   ]
  },
  {
   "cell_type": "markdown",
   "metadata": {},
   "source": [
    "##### Combien y a-t-il de données dans chaque classe ?"
   ]
  },
  {
   "cell_type": "code",
   "execution_count": 10,
   "metadata": {},
   "outputs": [
    {
     "data": {
      "text/plain": [
       "2    50\n",
       "1    50\n",
       "0    50\n",
       "Name: type, dtype: int64"
      ]
     },
     "execution_count": 10,
     "metadata": {},
     "output_type": "execute_result"
    }
   ],
   "source": [
    "df['type'].value_counts()"
   ]
  },
  {
   "cell_type": "markdown",
   "metadata": {},
   "source": [
    "##### Quels sont les attributs et la classe du 32ème élément de l'échantillon ?"
   ]
  },
  {
   "cell_type": "code",
   "execution_count": 11,
   "metadata": {},
   "outputs": [
    {
     "data": {
      "text/plain": [
       "sepal length    5.2\n",
       "sepal width     4.1\n",
       "petal length    1.5\n",
       " petal width    0.1\n",
       "type            0.0\n",
       "Name: 32, dtype: float64"
      ]
     },
     "execution_count": 11,
     "metadata": {},
     "output_type": "execute_result"
    }
   ],
   "source": [
    "df.loc[32,:]"
   ]
  },
  {
   "cell_type": "markdown",
   "metadata": {},
   "source": [
    "#### b.Comprendre, commenter et programmer le code source suivant :"
   ]
  },
  {
   "cell_type": "code",
   "execution_count": 12,
   "metadata": {},
   "outputs": [],
   "source": [
    "import matplotlib\n",
    "import pylab as pl\n",
    "from itertools import cycle\n",
    "def plot_2D(data, target, target_names):\n",
    "    colors = cycle('rgbcmykw') # cycle de couleurs\n",
    "    target_ids = range(len(target_names))\n",
    "    pl.figure()\n",
    "    for i, c, label in zip(target_ids, colors, target_names):\n",
    "        pl.scatter(data[target == i, 0], data[target == i, 1], c=c, label=label)\n",
    "    pl.xlabel('Longueur du sepal (cm)')\n",
    "    pl.ylabel('Largueur du sepal (cm)')\n",
    "    pl.legend()\n",
    "    pl.show()"
   ]
  },
  {
   "cell_type": "code",
   "execution_count": 13,
   "metadata": {
    "scrolled": true
   },
   "outputs": [
    {
     "data": {
      "image/png": "[encoded data removed]",
      "text/plain": [
       "<Figure size 432x288 with 1 Axes>"
      ]
     },
     "metadata": {
      "needs_background": "light"
     },
     "output_type": "display_data"
    }
   ],
   "source": [
    "plot_2D(irisData.data, irisData.target, irisData.target_names)"
   ]
  },
  {
   "cell_type": "markdown",
   "metadata": {},
   "source": [
    "Ce code montre la relation entre la longueur et la largeur du sépal pour les 3 classes.\n",
    "En se basant sur ce code, on va afficher la relation entre la longueur et la largeur du pétal pour les 3 classes."
   ]
  },
  {
   "cell_type": "code",
   "execution_count": 14,
   "metadata": {},
   "outputs": [],
   "source": [
    "import matplotlib\n",
    "import pylab as pl\n",
    "from itertools import cycle\n",
    "def plot_2D(data, target, target_names):\n",
    "    colors = cycle('rgbcmykw') # cycle de couleurs\n",
    "    target_ids = range(len(target_names))\n",
    "    pl.figure()\n",
    "    for i, c, label in zip(target_ids, colors, target_names):\n",
    "        pl.scatter(data[target == i, 2], data[target == i, 3], c=c, label=label)\n",
    "    pl.xlabel('Longueur du pétal (cm)')\n",
    "    pl.ylabel('Largueur du pétal (cm)')\n",
    "    pl.legend()\n",
    "    pl.show()"
   ]
  },
  {
   "cell_type": "code",
   "execution_count": 15,
   "metadata": {},
   "outputs": [
    {
     "data": {
      "image/png": "[encoded data removed]",
      "text/plain": [
       "<Figure size 432x288 with 1 Axes>"
      ]
     },
     "metadata": {
      "needs_background": "light"
     },
     "output_type": "display_data"
    }
   ],
   "source": [
    "plot_2D(irisData.data, irisData.target, irisData.target_names)"
   ]
  },
  {
   "cell_type": "markdown",
   "metadata": {},
   "source": [
    "#### c. Est-ce  qu'il existe  un  espace  2D  (constituéde  deux  attributs)  dans  lequel  une  droite (parmid'autres) permettrait de séparer les exemples d'une classe des exemples des deux autres classes? "
   ]
  },
  {
   "cell_type": "code",
   "execution_count": 16,
   "metadata": {},
   "outputs": [
    {
     "data": {
      "image/png": "[encoded data removed]",
      "text/plain": [
       "<Figure size 432x288 with 1 Axes>"
      ]
     },
     "metadata": {
      "needs_background": "light"
     },
     "output_type": "display_data"
    }
   ],
   "source": [
    "def plot_2D(data, target, target_names):\n",
    "    colors = cycle('rgbcmykw') # cycle de couleurs\n",
    "    target_ids = range(len(target_names))\n",
    "    pl.figure()\n",
    "    for i, c, label in zip(target_ids, colors, target_names):\n",
    "        pl.scatter(data[target == i, 2], data[target == i, 3], c=c, label=label)\n",
    "    pl.xlabel('Longueur du pétal (cm)')\n",
    "    pl.ylabel('Largueur du pétal (cm)')\n",
    "    pl.axvline(x=2.2)\n",
    "    pl.legend()\n",
    "    pl.show()\n",
    "\n",
    "    \n",
    "plot_2D(irisData.data, irisData.target, irisData.target_names)"
   ]
  },
  {
   "cell_type": "markdown",
   "metadata": {},
   "source": [
    "Il existe une droite qui sépare les instances de la classe Setosa du reste des instances des autres classes. Cette droite a comme équation : x = 2.2"
   ]
  },
  {
   "cell_type": "markdown",
   "metadata": {},
   "source": [
    "# II-Un premier apprentissage de classiffieur\n",
    "## 1.La variable clf: de données! "
   ]
  },
  {
   "cell_type": "markdown",
   "metadata": {},
   "source": [
    "##### a. Comprendre et programmer l'exemple ci-dessous : quel est le résultat ?"
   ]
  },
  {
   "cell_type": "code",
   "execution_count": 17,
   "metadata": {},
   "outputs": [
    {
     "name": "stdout",
     "output_type": "stream",
     "text": [
      "[0]\n",
      "[2]\n",
      "[0 0 0 0 0 0 0 0 0 0 0 0 0 0 0 0 0 0 0 0 0 0 0 0 0 0 0 0 0 0 0 0 0 0 0 0 0\n",
      " 0 0 0 0 0 0 0 0 0 0 0 0 0 1 1 1 1 1 1 1 1 1 1 1 1 1 1 1 1 1 1 1 1 1 1 1 1\n",
      " 1 1 1 1 1 1 1 1 1 2 1 1 1 1 1 1 1 1 1 1 1 1 1 1 1 1 2 2 2 2 2 2 2 2 2 2 2\n",
      " 2 2 2 2 2 2 2 2 2 2 2 2 2 2 1 2 2 2 1 2 1 2 1 2 2 2 2 2 2 2 2 2 2 2 2 2 2\n",
      " 2 2]\n"
     ]
    }
   ],
   "source": [
    "from sklearn import naive_bayes\n",
    "\n",
    "nb = naive_bayes.MultinomialNB(fit_prior=True)# un algo d'apprentissage\n",
    "irisData = datasets.load_iris()\n",
    "nb.fit(irisData.data[:-1], irisData.target[:-1])\n",
    "p31 = nb.predict(irisData.data[31].reshape(1, -1))\n",
    "print(p31)\n",
    "plast = nb.predict(irisData.data[-1].reshape(1, -1))\n",
    "print(plast)\n",
    "p = nb.predict(irisData.data[:])\n",
    "print(p)"
   ]
  },
  {
   "cell_type": "code",
   "execution_count": 18,
   "metadata": {},
   "outputs": [
    {
     "name": "stdout",
     "output_type": "stream",
     "text": [
      "Qualité de prediction:  0.9666666666666667\n"
     ]
    }
   ],
   "source": [
    "from sklearn.metrics import accuracy_score\n",
    "y= irisData.target\n",
    "print('Qualité de prediction: ',accuracy_score(p, y))"
   ]
  },
  {
   "cell_type": "markdown",
   "metadata": {},
   "source": [
    "*   Initialiser un classifieur Naive Bayes Multinominal\n",
    "*   Faire un apprentissage sur les 149 premieres instances \n",
    "*   Faire un test sur la 31eme instance, puis sur la 150eme instance et puis sur toutes les instances"
   ]
  },
  {
   "cell_type": "markdown",
   "metadata": {},
   "source": [
    "##### b."
   ]
  },
  {
   "cell_type": "code",
   "execution_count": 19,
   "metadata": {},
   "outputs": [
    {
     "data": {
      "text/plain": [
       "array([1, 1, 1, 1, 1, 1, 1, 1, 1, 1, 1, 1, 1, 1, 1, 1, 1, 1, 1, 1, 1, 1,\n",
       "       1, 1, 1, 1, 1, 1, 1, 1, 1, 1, 1, 1, 1, 1, 1, 1, 1, 1, 1, 1, 1, 1,\n",
       "       1, 1, 1, 1, 1])"
      ]
     },
     "execution_count": 19,
     "metadata": {},
     "output_type": "execute_result"
    }
   ],
   "source": [
    "from sklearn import naive_bayes\n",
    "nb = naive_bayes.MultinomialNB(fit_prior=True)\n",
    "nb.fit(irisData.data[:99], irisData.target[:99])\n",
    "nb.predict(irisData.data[100:149])"
   ]
  },
  {
   "cell_type": "code",
   "execution_count": 20,
   "metadata": {},
   "outputs": [
    {
     "name": "stdout",
     "output_type": "stream",
     "text": [
      "Qualité de prediction:  0.6666666666666666\n"
     ]
    }
   ],
   "source": [
    "pred = nb.predict(irisData.data[:])\n",
    "y= irisData.target\n",
    "print('Qualité de prediction: ',accuracy_score(pred, y))"
   ]
  },
  {
   "cell_type": "markdown",
   "metadata": {},
   "source": [
    "Les resultats sont mauvais! et c'est du au déséquilibre des données; la training set contient que des instances des classes 0 et 1. Pour résoudre ce problème on peut mélanger (shuffle) la dataset avant la division (split)"
   ]
  },
  {
   "cell_type": "code",
   "execution_count": 21,
   "metadata": {},
   "outputs": [
    {
     "data": {
      "text/plain": [
       "array([2, 0, 0, 2, 0, 2, 0, 0, 2, 0, 2, 2, 2, 0, 1, 1, 1, 1, 2, 0, 1, 2,\n",
       "       2, 0, 2, 2, 2, 1, 0, 2, 0, 0, 0, 0, 1, 2, 1, 1, 2, 0, 1, 2, 0, 2,\n",
       "       2, 0, 2, 1, 2])"
      ]
     },
     "execution_count": 21,
     "metadata": {},
     "output_type": "execute_result"
    }
   ],
   "source": [
    "from sklearn import naive_bayes\n",
    "from random import shuffle\n",
    "\n",
    "nb = naive_bayes.MultinomialNB(fit_prior=True)\n",
    "new_data = list(zip(irisData.data,irisData.target))\n",
    "shuffle(new_data)\n",
    "X,y = list(zip(*new_data))\n",
    "nb.fit(X[:99],y[:99])\n",
    "nb.predict(X[100:149]) "
   ]
  },
  {
   "cell_type": "code",
   "execution_count": 22,
   "metadata": {},
   "outputs": [
    {
     "name": "stdout",
     "output_type": "stream",
     "text": [
      "Qualité de prediction:  0.8533333333333334\n"
     ]
    }
   ],
   "source": [
    "pred = nb.predict(X[:])\n",
    "print('Qualité de prediction: ',accuracy_score(pred, y))"
   ]
  },
  {
   "cell_type": "markdown",
   "metadata": {},
   "source": [
    "On remarque une amélioration du l'accuracy"
   ]
  },
  {
   "cell_type": "markdown",
   "metadata": {},
   "source": [
    "# III-Evaluer les performances d'un classiffieur\n",
    "## 1. Performances sur l'ensemble d'apprentissage"
   ]
  },
  {
   "cell_type": "markdown",
   "metadata": {},
   "source": [
    "#### 1."
   ]
  },
  {
   "cell_type": "code",
   "execution_count": 23,
   "metadata": {},
   "outputs": [],
   "source": [
    "def fit_error(P,Y):\n",
    "    ea = 0\n",
    "    for i in range(len(irisData.data)):\n",
    "        if (P[i]!=Y[i]):\n",
    "            ea = ea+1\n",
    "    print(ea/len(irisData.data))"
   ]
  },
  {
   "cell_type": "code",
   "execution_count": 24,
   "metadata": {},
   "outputs": [
    {
     "name": "stdout",
     "output_type": "stream",
     "text": [
      "0.04666666666666667\n"
     ]
    }
   ],
   "source": [
    "nb.fit(irisData.data,irisData.target)\n",
    "prediction_arr = nb.predict(irisData.data)\n",
    "fit_error(prediction_arr,irisData.target)"
   ]
  },
  {
   "cell_type": "markdown",
   "metadata": {},
   "source": [
    "#### 2."
   ]
  },
  {
   "cell_type": "code",
   "execution_count": 25,
   "metadata": {},
   "outputs": [
    {
     "name": "stdout",
     "output_type": "stream",
     "text": [
      "0.04666666666666667\n"
     ]
    }
   ],
   "source": [
    "import numpy as np\n",
    "def fit_error2(P, Y):\n",
    "  print(np.count_nonzero(P-Y)/len(irisData.data))\n",
    "\n",
    "fit_error2(prediction_arr, irisData.target)"
   ]
  },
  {
   "cell_type": "markdown",
   "metadata": {},
   "source": [
    "Les variables non nulles reflètent les erreurs du modèle."
   ]
  },
  {
   "cell_type": "markdown",
   "metadata": {},
   "source": [
    "#### 3."
   ]
  },
  {
   "cell_type": "code",
   "execution_count": 26,
   "metadata": {},
   "outputs": [],
   "source": [
    "def fit_error3(X,y):\n",
    "    accuracy_score = 1 - nb.score(X,y)\n",
    "    print('Taux d\\'erreur: ', accuracy_score)"
   ]
  },
  {
   "cell_type": "code",
   "execution_count": 27,
   "metadata": {},
   "outputs": [
    {
     "name": "stdout",
     "output_type": "stream",
     "text": [
      "Taux d'erreur:  0.046666666666666634\n"
     ]
    }
   ],
   "source": [
    "fit_error3(irisData.data,irisData.target)"
   ]
  },
  {
   "cell_type": "markdown",
   "metadata": {},
   "source": [
    "## 2. Performances en généralisation"
   ]
  },
  {
   "cell_type": "markdown",
   "metadata": {},
   "source": [
    "### 2.1. Estimer l'erreur réelle par division de l'échantillon d'apprentissage"
   ]
  },
  {
   "cell_type": "markdown",
   "metadata": {},
   "source": [
    "##### a.Créez la fonction split(S) pour séparer en deux un échantillon S de couples (X,y) "
   ]
  },
  {
   "cell_type": "code",
   "execution_count": 28,
   "metadata": {},
   "outputs": [
    {
     "name": "stdout",
     "output_type": "stream",
     "text": [
      "la taille de S1:  100\n",
      "la taille de S2:  50\n"
     ]
    }
   ],
   "source": [
    "from random import sample\n",
    "\n",
    "def split(S):\n",
    "    sample_size = round(len(S)*0.33)\n",
    "    samp = sample(range(len(S)), k=sample_size)\n",
    "    dataS1 = []\n",
    "    dataS2 = []\n",
    "    targetS1 = []\n",
    "    targetS2 = []\n",
    "    for i in range(len(S)):\n",
    "        if i in samp:\n",
    "            dataS2.append(S[i][0])\n",
    "            targetS2.append(S[i][1])\n",
    "        else:\n",
    "            dataS1.append(S[i][0])\n",
    "            targetS1.append(S[i][1])\n",
    "    return [dataS1, targetS1, dataS2, targetS2]\n",
    "   \n",
    "    \n",
    "\n",
    "S = list(zip(irisData.data, irisData.target))\n",
    "[dataS1, targetS1, dataS2, targetS2] = split(S)\n",
    "print('la taille de S1: ',len(dataS1))\n",
    "print('la taille de S2: ',len(dataS2))"
   ]
  },
  {
   "cell_type": "markdown",
   "metadata": {},
   "source": [
    "##### b.Créez la fonction test(S, clf)"
   ]
  },
  {
   "cell_type": "code",
   "execution_count": 29,
   "metadata": {},
   "outputs": [
    {
     "data": {
      "text/plain": [
       "0.06000000000000005"
      ]
     },
     "execution_count": 29,
     "metadata": {},
     "output_type": "execute_result"
    }
   ],
   "source": [
    "def test(S, clf):\n",
    "    [dataS1, targetS1, dataS2, targetS2] = split(S)\n",
    "    clf.fit(dataS1,targetS1)\n",
    "    return(1-clf.score(dataS2,targetS2))\n",
    "\n",
    "test(S,nb)"
   ]
  },
  {
   "cell_type": "markdown",
   "metadata": {},
   "source": [
    "L'erreur estimée est plus grande que l'erreur apparente précédemment calculée.\n",
    "Chaque fois on fait appelle a la methode test() on obtient une nouvelle valeur de l'erreur."
   ]
  },
  {
   "cell_type": "markdown",
   "metadata": {},
   "source": [
    "##### c."
   ]
  },
  {
   "cell_type": "code",
   "execution_count": 30,
   "metadata": {},
   "outputs": [],
   "source": [
    "def t_test(S,clf,t):\n",
    "    sum = 0\n",
    "    for i in range(t):\n",
    "        sum += test(S,clf)\n",
    "    return sum/t"
   ]
  },
  {
   "cell_type": "code",
   "execution_count": 31,
   "metadata": {},
   "outputs": [
    {
     "name": "stdout",
     "output_type": "stream",
     "text": [
      "La moyenne de l'erreur estimée pour t= 10 est:  0.18600000000000003\n",
      "La moyenne de l'erreur estimée pour t= 50 est:  0.18480000000000005\n",
      "La moyenne de l'erreur estimée pour t= 100 est:  0.18439999999999995\n",
      "La moyenne de l'erreur estimée pour t= 200 est:  0.2098000000000001\n",
      "La moyenne de l'erreur estimée pour t= 500 est:  0.19660000000000016\n",
      "La moyenne de l'erreur estimée pour t= 1000 est:  0.20198\n"
     ]
    }
   ],
   "source": [
    "t = [10,50,100,200,500,1000]\n",
    "for i in t:\n",
    "    print('La moyenne de l\\'erreur estimée pour t=',i,'est: ',t_test(S,nb,i))"
   ]
  },
  {
   "cell_type": "code",
   "execution_count": 32,
   "metadata": {
    "scrolled": true
   },
   "outputs": [
    {
     "name": "stdout",
     "output_type": "stream",
     "text": [
      "La moyenne de l'erreur estimée pour t= 10  répétée 20 fois est:  0.201\n",
      "La moyenne de l'erreur estimée pour t= 50  répétée 20 fois est:  0.19490000000000002\n",
      "La moyenne de l'erreur estimée pour t= 100  répétée 20 fois est:  0.20400999999999997\n",
      "La moyenne de l'erreur estimée pour t= 200  répétée 20 fois est:  0.19747999999999996\n",
      "La moyenne de l'erreur estimée pour t= 500  répétée 20 fois est:  0.20229600000000017\n",
      "La moyenne de l'erreur estimée pour t= 1000  répétée 20 fois est:  0.20165600000000028\n"
     ]
    }
   ],
   "source": [
    "for i in [10,50,100,200,500,1000]:\n",
    "    sum = 0\n",
    "    for j in range(20):\n",
    "        sum += t_test(S,nb,i)\n",
    "    print('La moyenne de l\\'erreur estimée pour t=',i,' répétée 20 fois est: ',sum/20)"
   ]
  },
  {
   "cell_type": "markdown",
   "metadata": {},
   "source": []
  },
  {
   "cell_type": "markdown",
   "metadata": {},
   "source": [
    "##### d."
   ]
  },
  {
   "cell_type": "code",
   "execution_count": 33,
   "metadata": {},
   "outputs": [
    {
     "name": "stdout",
     "output_type": "stream",
     "text": [
      "la taille de S1:  135\n",
      "la taille de S2:  15\n"
     ]
    }
   ],
   "source": [
    "def split(S):\n",
    "    sample_size = round(len(S)*0.1)\n",
    "    samp = sample(range(len(S)), k=sample_size)\n",
    "    dataS1 = []\n",
    "    dataS2 = []\n",
    "    targetS1 = []\n",
    "    targetS2 = []\n",
    "    for i in range(len(S)):\n",
    "        if i in samp:\n",
    "            dataS2.append(S[i][0])\n",
    "            targetS2.append(S[i][1])\n",
    "        else:\n",
    "            dataS1.append(S[i][0])\n",
    "            targetS1.append(S[i][1])\n",
    "    return [dataS1, targetS1, dataS2, targetS2]\n",
    "   \n",
    "    \n",
    "\n",
    "S = list(zip(irisData.data, irisData.target))\n",
    "[dataS1, targetS1, dataS2, targetS2] = split(S)\n",
    "print('la taille de S1: ',len(dataS1))\n",
    "print('la taille de S2: ',len(dataS2))"
   ]
  },
  {
   "cell_type": "code",
   "execution_count": 34,
   "metadata": {},
   "outputs": [
    {
     "data": {
      "text/plain": [
       "0.0"
      ]
     },
     "execution_count": 34,
     "metadata": {},
     "output_type": "execute_result"
    }
   ],
   "source": [
    "def test(S, clf):\n",
    "    [dataS1, targetS1, dataS2, targetS2] = split(S)\n",
    "    clf.fit(dataS1,targetS1)\n",
    "    return(1-clf.score(dataS2,targetS2))\n",
    "\n",
    "test(S,nb)"
   ]
  },
  {
   "cell_type": "code",
   "execution_count": 35,
   "metadata": {},
   "outputs": [],
   "source": [
    "def t_test(S,clf,t):\n",
    "    sum = 0\n",
    "    for i in range(t):\n",
    "        sum += test(S,clf)\n",
    "    return sum/t"
   ]
  },
  {
   "cell_type": "code",
   "execution_count": 36,
   "metadata": {},
   "outputs": [
    {
     "name": "stdout",
     "output_type": "stream",
     "text": [
      "La moyenne de l'erreur estimée pour t= 10 est:  0.15999999999999998\n",
      "La moyenne de l'erreur estimée pour t= 50 est:  0.12399999999999999\n",
      "La moyenne de l'erreur estimée pour t= 100 est:  0.11399999999999992\n",
      "La moyenne de l'erreur estimée pour t= 200 est:  0.11766666666666648\n",
      "La moyenne de l'erreur estimée pour t= 500 est:  0.11573333333333377\n",
      "La moyenne de l'erreur estimée pour t= 1000 est:  0.12393333333333385\n"
     ]
    }
   ],
   "source": [
    "t = [10,50,100,200,500,1000]\n",
    "for i in t:\n",
    "    print('La moyenne de l\\'erreur estimée pour t=',i,'est: ',t_test(S,nb,i))"
   ]
  },
  {
   "cell_type": "code",
   "execution_count": 37,
   "metadata": {},
   "outputs": [
    {
     "name": "stdout",
     "output_type": "stream",
     "text": [
      "La moyenne de l'erreur estimée pour t= 10  répétée 20 fois est:  0.12666666666666665\n",
      "La moyenne de l'erreur estimée pour t= 50  répétée 20 fois est:  0.12346666666666661\n",
      "La moyenne de l'erreur estimée pour t= 100  répétée 20 fois est:  0.12813333333333327\n",
      "La moyenne de l'erreur estimée pour t= 200  répétée 20 fois est:  0.11969999999999983\n",
      "La moyenne de l'erreur estimée pour t= 500  répétée 20 fois est:  0.12060666666666708\n",
      "La moyenne de l'erreur estimée pour t= 1000  répétée 20 fois est:  0.12330666666666704\n"
     ]
    }
   ],
   "source": [
    "for i in [10,50,100,200,500,1000]:\n",
    "    sum = 0\n",
    "    for j in range(20):\n",
    "        sum += t_test(S,nb,i)\n",
    "    print('La moyenne de l\\'erreur estimée pour t=',i,' répétée 20 fois est: ',sum/20)"
   ]
  },
  {
   "cell_type": "markdown",
   "metadata": {},
   "source": []
  },
  {
   "cell_type": "markdown",
   "metadata": {},
   "source": [
    " ##### f."
   ]
  },
  {
   "cell_type": "code",
   "execution_count": 38,
   "metadata": {},
   "outputs": [
    {
     "name": "stdout",
     "output_type": "stream",
     "text": [
      "pour la taille de test t =  0.1  l'erreur estimé =  0.5333333333333333\n",
      "pour la taille de test t =  0.2  l'erreur estimé =  0.09999999999999998\n",
      "pour la taille de test t =  0.33  l'erreur estimé =  0.4\n",
      "pour la taille de test t =  0.4  l'erreur estimé =  0.09999999999999998\n",
      "pour la taille de test t =  0.5  l'erreur estimé =  0.4\n"
     ]
    }
   ],
   "source": [
    "import numpy as np\n",
    "from sklearn.model_selection import train_test_split\n",
    "\n",
    "def tts_test(testSize,data,target):\n",
    "    X_train,X_test,y_train,y_test = train_test_split(data,target,test_size = testSize)\n",
    "    nb.fit(X_train,y_train)\n",
    "    print(\"pour la taille de test t = \",testSize,\" l'erreur estimé = \", 1-nb.score(X_test,y_test))\n",
    "\n",
    "    \n",
    "test_sizes_arr = [0.1,0.2,0.33,0.4,0.5]\n",
    "for i in test_sizes_arr:\n",
    "    tts_test(i,irisData.data, irisData.target)"
   ]
  },
  {
   "cell_type": "markdown",
   "metadata": {},
   "source": [
    "### 2.2 Estimer l'erreur réelle par validation croisée"
   ]
  },
  {
   "cell_type": "code",
   "execution_count": 39,
   "metadata": {},
   "outputs": [
    {
     "name": "stdout",
     "output_type": "stream",
     "text": [
      "pour fold =  10  l'erreur estimée est : 0.046666666666666655\n",
      "pour fold =  8  l'erreur estimée est : 0.05263157894736843\n",
      "pour fold =  5  l'erreur estimée est : 0.046666666666666655\n",
      "pour fold =  3  l'erreur estimée est : 0.053333333333333344\n",
      "pour fold =  2  l'erreur estimée est : 0.04666666666666669\n"
     ]
    }
   ],
   "source": [
    "from sklearn.model_selection import cross_val_score\n",
    "\n",
    "def cvScore(fold):\n",
    "    scores = cross_val_score(nb, irisData.data, irisData.target, cv=fold)\n",
    "    return 1-scores\n",
    "\n",
    "folds = [10,8,5,3,2]\n",
    "for i in folds:\n",
    "    print('pour fold = ',i,' l\\'erreur estimée est :',cvScore(i).mean())"
   ]
  },
  {
   "cell_type": "markdown",
   "metadata": {},
   "source": [
    "# IV- Compte Rendu\n",
    "### c. Decision Tree vs Naïve bayes"
   ]
  },
  {
   "cell_type": "code",
   "execution_count": 40,
   "metadata": {},
   "outputs": [],
   "source": [
    "def fit_error(clf,X,y):\n",
    "    clf.fit(X,y)\n",
    "    return 1-clf.score(X,y)\n",
    "\n",
    "\n",
    "def ts_error(clf,X,y):\n",
    "    X_train,X_test,y_train,y_test = train_test_split(X,y,test_size=0.33)\n",
    "    clf.fit(X_train,y_train)\n",
    "    return 1-clf.score(X_test,y_test)\n",
    "\n",
    "def cv_error(clf,X,y):\n",
    "    return (1-cross_val_score(clf,X,y)).mean()"
   ]
  },
  {
   "cell_type": "code",
   "execution_count": 41,
   "metadata": {},
   "outputs": [
    {
     "name": "stdout",
     "output_type": "stream",
     "text": [
      "                         Naive Bayes                          Decision Tree \n",
      "Fit :                    0.046666666666666634                    0.0\n",
      "Test Split :             0.14                     0.040000000000000036\n",
      "Cross Validation :       0.046666666666666655                    0.039999999999999994\n"
     ]
    }
   ],
   "source": [
    "from sklearn.tree import DecisionTreeClassifier\n",
    "\n",
    "dt = DecisionTreeClassifier(random_state=0)\n",
    "X = irisData.data\n",
    "y = irisData.target\n",
    "print('                         Naive Bayes                          Decision Tree ')\n",
    "print('Fit :                   ',fit_error(nb,X,y),'                  ' ,fit_error(dt,X,y))\n",
    "print('Test Split :            ',ts_error(nb,X,y),'                   ',ts_error(dt,X,y))\n",
    "print('Cross Validation :      ',cv_error(nb,X,y),'                  ',cv_error(dt,X,y))"
   ]
  },
  {
   "cell_type": "markdown",
   "metadata": {},
   "source": [
    "Pour la dataset iris, la méthode de classification Naive Bayes présente plus d'erreur que l'Arbre de décision mais on ne peut pas dire qu'une est meilleure que l'autre car ça peut donner d'autres resultats pour une autre dataset (resultat du tp2)"
   ]
  },
  {
   "cell_type": "code",
   "execution_count": null,
   "metadata": {},
   "outputs": [],
   "source": []
  }
 ],
 "metadata": {
  "kernelspec": {
   "display_name": "Python 3",
   "language": "python",
   "name": "python3"
  },
  "language_info": {
   "codemirror_mode": {
    "name": "ipython",
    "version": 3
   },
   "file_extension": ".py",
   "mimetype": "text/x-python",
   "name": "python",
   "nbconvert_exporter": "python",
   "pygments_lexer": "ipython3",
   "version": "3.8.5"
  }
 },
 "nbformat": 4,
 "nbformat_minor": 4
}
