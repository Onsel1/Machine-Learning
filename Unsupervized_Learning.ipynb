{
 "cells": [
  {
   "cell_type": "markdown",
   "metadata": {},
   "source": [
    "# <font size='100px' color ='deepskyblue'> Apprentissage non supervisé: Clustering </font>\n",
    "### <font color='hotpink'> Ons SELLAMI et Anis MESSAOUDI - GL4 </font>"
   ]
  },
  {
   "cell_type": "markdown",
   "metadata": {},
   "source": [
    "## <font color='darkorchid' size=6> Partie 1: Données de travail</font>"
   ]
  },
  {
   "cell_type": "code",
   "execution_count": 1,
   "metadata": {},
   "outputs": [
    {
     "data": {
      "text/html": [
       "<div>\n",
       "<style scoped>\n",
       "    .dataframe tbody tr th:only-of-type {\n",
       "        vertical-align: middle;\n",
       "    }\n",
       "\n",
       "    .dataframe tbody tr th {\n",
       "        vertical-align: top;\n",
       "    }\n",
       "\n",
       "    .dataframe thead th {\n",
       "        text-align: right;\n",
       "    }\n",
       "</style>\n",
       "<table border=\"1\" class=\"dataframe\">\n",
       "  <thead>\n",
       "    <tr style=\"text-align: right;\">\n",
       "      <th></th>\n",
       "      <th>calories</th>\n",
       "      <th>sodium</th>\n",
       "      <th>calcium</th>\n",
       "      <th>lipides</th>\n",
       "      <th>retinol</th>\n",
       "      <th>folates</th>\n",
       "      <th>proteines</th>\n",
       "      <th>cholesterol</th>\n",
       "      <th>magnesium</th>\n",
       "    </tr>\n",
       "  </thead>\n",
       "  <tbody>\n",
       "    <tr>\n",
       "      <th>count</th>\n",
       "      <td>29.000000</td>\n",
       "      <td>29.000000</td>\n",
       "      <td>29.000000</td>\n",
       "      <td>29.000000</td>\n",
       "      <td>29.000000</td>\n",
       "      <td>29.000000</td>\n",
       "      <td>29.000000</td>\n",
       "      <td>29.000000</td>\n",
       "      <td>29.000000</td>\n",
       "    </tr>\n",
       "    <tr>\n",
       "      <th>mean</th>\n",
       "      <td>300.034483</td>\n",
       "      <td>210.086207</td>\n",
       "      <td>185.734483</td>\n",
       "      <td>24.158621</td>\n",
       "      <td>67.562069</td>\n",
       "      <td>13.010345</td>\n",
       "      <td>20.168966</td>\n",
       "      <td>74.586207</td>\n",
       "      <td>26.965517</td>\n",
       "    </tr>\n",
       "    <tr>\n",
       "      <th>std</th>\n",
       "      <td>91.914356</td>\n",
       "      <td>108.678923</td>\n",
       "      <td>72.528882</td>\n",
       "      <td>8.129642</td>\n",
       "      <td>24.163098</td>\n",
       "      <td>11.723339</td>\n",
       "      <td>6.959788</td>\n",
       "      <td>28.245755</td>\n",
       "      <td>11.318388</td>\n",
       "    </tr>\n",
       "    <tr>\n",
       "      <th>min</th>\n",
       "      <td>70.000000</td>\n",
       "      <td>22.000000</td>\n",
       "      <td>72.600000</td>\n",
       "      <td>3.400000</td>\n",
       "      <td>37.100000</td>\n",
       "      <td>1.200000</td>\n",
       "      <td>4.100000</td>\n",
       "      <td>10.000000</td>\n",
       "      <td>10.000000</td>\n",
       "    </tr>\n",
       "    <tr>\n",
       "      <th>25%</th>\n",
       "      <td>292.000000</td>\n",
       "      <td>140.000000</td>\n",
       "      <td>132.900000</td>\n",
       "      <td>23.400000</td>\n",
       "      <td>51.600000</td>\n",
       "      <td>4.900000</td>\n",
       "      <td>17.800000</td>\n",
       "      <td>70.000000</td>\n",
       "      <td>20.000000</td>\n",
       "    </tr>\n",
       "    <tr>\n",
       "      <th>50%</th>\n",
       "      <td>321.000000</td>\n",
       "      <td>223.000000</td>\n",
       "      <td>202.300000</td>\n",
       "      <td>26.300000</td>\n",
       "      <td>62.300000</td>\n",
       "      <td>6.400000</td>\n",
       "      <td>21.000000</td>\n",
       "      <td>80.000000</td>\n",
       "      <td>26.000000</td>\n",
       "    </tr>\n",
       "    <tr>\n",
       "      <th>75%</th>\n",
       "      <td>355.000000</td>\n",
       "      <td>276.000000</td>\n",
       "      <td>220.500000</td>\n",
       "      <td>29.100000</td>\n",
       "      <td>76.400000</td>\n",
       "      <td>21.100000</td>\n",
       "      <td>23.400000</td>\n",
       "      <td>90.000000</td>\n",
       "      <td>30.000000</td>\n",
       "    </tr>\n",
       "    <tr>\n",
       "      <th>max</th>\n",
       "      <td>406.000000</td>\n",
       "      <td>432.000000</td>\n",
       "      <td>334.600000</td>\n",
       "      <td>33.300000</td>\n",
       "      <td>150.500000</td>\n",
       "      <td>36.400000</td>\n",
       "      <td>35.700000</td>\n",
       "      <td>120.000000</td>\n",
       "      <td>51.000000</td>\n",
       "    </tr>\n",
       "  </tbody>\n",
       "</table>\n",
       "</div>"
      ],
      "text/plain": [
       "         calories      sodium     calcium    lipides     retinol    folates  \\\n",
       "count   29.000000   29.000000   29.000000  29.000000   29.000000  29.000000   \n",
       "mean   300.034483  210.086207  185.734483  24.158621   67.562069  13.010345   \n",
       "std     91.914356  108.678923   72.528882   8.129642   24.163098  11.723339   \n",
       "min     70.000000   22.000000   72.600000   3.400000   37.100000   1.200000   \n",
       "25%    292.000000  140.000000  132.900000  23.400000   51.600000   4.900000   \n",
       "50%    321.000000  223.000000  202.300000  26.300000   62.300000   6.400000   \n",
       "75%    355.000000  276.000000  220.500000  29.100000   76.400000  21.100000   \n",
       "max    406.000000  432.000000  334.600000  33.300000  150.500000  36.400000   \n",
       "\n",
       "       proteines  cholesterol  magnesium  \n",
       "count  29.000000    29.000000  29.000000  \n",
       "mean   20.168966    74.586207  26.965517  \n",
       "std     6.959788    28.245755  11.318388  \n",
       "min     4.100000    10.000000  10.000000  \n",
       "25%    17.800000    70.000000  20.000000  \n",
       "50%    21.000000    80.000000  26.000000  \n",
       "75%    23.400000    90.000000  30.000000  \n",
       "max    35.700000   120.000000  51.000000  "
      ]
     },
     "execution_count": 1,
     "metadata": {},
     "output_type": "execute_result"
    }
   ],
   "source": [
    "import pandas as pd\n",
    "fromage=pd.read_table(r\"fromage.txt\",sep=\"\\t\",header=0,index_col=0)\n",
    "pd.DataFrame(fromage.describe())"
   ]
  },
  {
   "cell_type": "markdown",
   "metadata": {},
   "source": [
    "#### <font color='darkorange' size=3> 1. Comprendre et programmer les quelques lignes  Précédentes : comment sont réparties les données? Quels sont les attributsde ce jeu de données? </font>"
   ]
  },
  {
   "cell_type": "code",
   "execution_count": 2,
   "metadata": {},
   "outputs": [
    {
     "data": {
      "text/html": [
       "<div>\n",
       "<style scoped>\n",
       "    .dataframe tbody tr th:only-of-type {\n",
       "        vertical-align: middle;\n",
       "    }\n",
       "\n",
       "    .dataframe tbody tr th {\n",
       "        vertical-align: top;\n",
       "    }\n",
       "\n",
       "    .dataframe thead th {\n",
       "        text-align: right;\n",
       "    }\n",
       "</style>\n",
       "<table border=\"1\" class=\"dataframe\">\n",
       "  <thead>\n",
       "    <tr style=\"text-align: right;\">\n",
       "      <th></th>\n",
       "      <th>calories</th>\n",
       "      <th>sodium</th>\n",
       "      <th>calcium</th>\n",
       "      <th>lipides</th>\n",
       "      <th>retinol</th>\n",
       "      <th>folates</th>\n",
       "      <th>proteines</th>\n",
       "      <th>cholesterol</th>\n",
       "      <th>magnesium</th>\n",
       "    </tr>\n",
       "    <tr>\n",
       "      <th>Fromages</th>\n",
       "      <th></th>\n",
       "      <th></th>\n",
       "      <th></th>\n",
       "      <th></th>\n",
       "      <th></th>\n",
       "      <th></th>\n",
       "      <th></th>\n",
       "      <th></th>\n",
       "      <th></th>\n",
       "    </tr>\n",
       "  </thead>\n",
       "  <tbody>\n",
       "    <tr>\n",
       "      <th>CarredelEst</th>\n",
       "      <td>314</td>\n",
       "      <td>353.5</td>\n",
       "      <td>72.6</td>\n",
       "      <td>26.3</td>\n",
       "      <td>51.6</td>\n",
       "      <td>30.3</td>\n",
       "      <td>21.0</td>\n",
       "      <td>70</td>\n",
       "      <td>20</td>\n",
       "    </tr>\n",
       "    <tr>\n",
       "      <th>Babybel</th>\n",
       "      <td>314</td>\n",
       "      <td>238.0</td>\n",
       "      <td>209.8</td>\n",
       "      <td>25.1</td>\n",
       "      <td>63.7</td>\n",
       "      <td>6.4</td>\n",
       "      <td>22.6</td>\n",
       "      <td>70</td>\n",
       "      <td>27</td>\n",
       "    </tr>\n",
       "    <tr>\n",
       "      <th>Beaufort</th>\n",
       "      <td>401</td>\n",
       "      <td>112.0</td>\n",
       "      <td>259.4</td>\n",
       "      <td>33.3</td>\n",
       "      <td>54.9</td>\n",
       "      <td>1.2</td>\n",
       "      <td>26.6</td>\n",
       "      <td>120</td>\n",
       "      <td>41</td>\n",
       "    </tr>\n",
       "    <tr>\n",
       "      <th>Bleu</th>\n",
       "      <td>342</td>\n",
       "      <td>336.0</td>\n",
       "      <td>211.1</td>\n",
       "      <td>28.9</td>\n",
       "      <td>37.1</td>\n",
       "      <td>27.5</td>\n",
       "      <td>20.2</td>\n",
       "      <td>90</td>\n",
       "      <td>27</td>\n",
       "    </tr>\n",
       "    <tr>\n",
       "      <th>Camembert</th>\n",
       "      <td>264</td>\n",
       "      <td>314.0</td>\n",
       "      <td>215.9</td>\n",
       "      <td>19.5</td>\n",
       "      <td>103.0</td>\n",
       "      <td>36.4</td>\n",
       "      <td>23.4</td>\n",
       "      <td>60</td>\n",
       "      <td>20</td>\n",
       "    </tr>\n",
       "    <tr>\n",
       "      <th>Cantal</th>\n",
       "      <td>367</td>\n",
       "      <td>256.0</td>\n",
       "      <td>264.0</td>\n",
       "      <td>28.8</td>\n",
       "      <td>48.8</td>\n",
       "      <td>5.7</td>\n",
       "      <td>23.0</td>\n",
       "      <td>90</td>\n",
       "      <td>30</td>\n",
       "    </tr>\n",
       "    <tr>\n",
       "      <th>Chabichou</th>\n",
       "      <td>344</td>\n",
       "      <td>192.0</td>\n",
       "      <td>87.2</td>\n",
       "      <td>27.9</td>\n",
       "      <td>90.1</td>\n",
       "      <td>36.3</td>\n",
       "      <td>19.5</td>\n",
       "      <td>80</td>\n",
       "      <td>36</td>\n",
       "    </tr>\n",
       "    <tr>\n",
       "      <th>Chaource</th>\n",
       "      <td>292</td>\n",
       "      <td>276.0</td>\n",
       "      <td>132.9</td>\n",
       "      <td>25.4</td>\n",
       "      <td>116.4</td>\n",
       "      <td>32.5</td>\n",
       "      <td>17.8</td>\n",
       "      <td>70</td>\n",
       "      <td>25</td>\n",
       "    </tr>\n",
       "    <tr>\n",
       "      <th>Cheddar</th>\n",
       "      <td>406</td>\n",
       "      <td>172.0</td>\n",
       "      <td>182.3</td>\n",
       "      <td>32.5</td>\n",
       "      <td>76.4</td>\n",
       "      <td>4.9</td>\n",
       "      <td>26.0</td>\n",
       "      <td>110</td>\n",
       "      <td>28</td>\n",
       "    </tr>\n",
       "    <tr>\n",
       "      <th>Comte</th>\n",
       "      <td>399</td>\n",
       "      <td>92.0</td>\n",
       "      <td>220.5</td>\n",
       "      <td>32.4</td>\n",
       "      <td>55.9</td>\n",
       "      <td>1.3</td>\n",
       "      <td>29.2</td>\n",
       "      <td>120</td>\n",
       "      <td>51</td>\n",
       "    </tr>\n",
       "    <tr>\n",
       "      <th>Coulomniers</th>\n",
       "      <td>308</td>\n",
       "      <td>222.0</td>\n",
       "      <td>79.2</td>\n",
       "      <td>25.6</td>\n",
       "      <td>63.6</td>\n",
       "      <td>21.1</td>\n",
       "      <td>20.5</td>\n",
       "      <td>80</td>\n",
       "      <td>13</td>\n",
       "    </tr>\n",
       "    <tr>\n",
       "      <th>Edam</th>\n",
       "      <td>327</td>\n",
       "      <td>148.0</td>\n",
       "      <td>272.2</td>\n",
       "      <td>24.7</td>\n",
       "      <td>65.7</td>\n",
       "      <td>5.5</td>\n",
       "      <td>24.7</td>\n",
       "      <td>80</td>\n",
       "      <td>44</td>\n",
       "    </tr>\n",
       "    <tr>\n",
       "      <th>Emmental</th>\n",
       "      <td>378</td>\n",
       "      <td>60.0</td>\n",
       "      <td>308.2</td>\n",
       "      <td>29.4</td>\n",
       "      <td>56.3</td>\n",
       "      <td>2.4</td>\n",
       "      <td>29.4</td>\n",
       "      <td>110</td>\n",
       "      <td>45</td>\n",
       "    </tr>\n",
       "    <tr>\n",
       "      <th>Fr.chevrepatemolle</th>\n",
       "      <td>206</td>\n",
       "      <td>160.0</td>\n",
       "      <td>72.8</td>\n",
       "      <td>18.5</td>\n",
       "      <td>150.5</td>\n",
       "      <td>31.0</td>\n",
       "      <td>11.1</td>\n",
       "      <td>50</td>\n",
       "      <td>16</td>\n",
       "    </tr>\n",
       "    <tr>\n",
       "      <th>Fr.fondu.45</th>\n",
       "      <td>292</td>\n",
       "      <td>390.0</td>\n",
       "      <td>168.5</td>\n",
       "      <td>24.0</td>\n",
       "      <td>77.4</td>\n",
       "      <td>5.5</td>\n",
       "      <td>16.8</td>\n",
       "      <td>70</td>\n",
       "      <td>20</td>\n",
       "    </tr>\n",
       "    <tr>\n",
       "      <th>Fr.frais20nat.</th>\n",
       "      <td>80</td>\n",
       "      <td>41.0</td>\n",
       "      <td>146.3</td>\n",
       "      <td>3.5</td>\n",
       "      <td>50.0</td>\n",
       "      <td>20.0</td>\n",
       "      <td>8.3</td>\n",
       "      <td>10</td>\n",
       "      <td>11</td>\n",
       "    </tr>\n",
       "    <tr>\n",
       "      <th>Fr.frais40nat.</th>\n",
       "      <td>115</td>\n",
       "      <td>25.0</td>\n",
       "      <td>94.8</td>\n",
       "      <td>7.8</td>\n",
       "      <td>64.3</td>\n",
       "      <td>22.6</td>\n",
       "      <td>7.0</td>\n",
       "      <td>30</td>\n",
       "      <td>10</td>\n",
       "    </tr>\n",
       "    <tr>\n",
       "      <th>Maroilles</th>\n",
       "      <td>338</td>\n",
       "      <td>311.0</td>\n",
       "      <td>236.7</td>\n",
       "      <td>29.1</td>\n",
       "      <td>46.7</td>\n",
       "      <td>3.6</td>\n",
       "      <td>20.4</td>\n",
       "      <td>90</td>\n",
       "      <td>40</td>\n",
       "    </tr>\n",
       "    <tr>\n",
       "      <th>Morbier</th>\n",
       "      <td>347</td>\n",
       "      <td>285.0</td>\n",
       "      <td>219.0</td>\n",
       "      <td>29.5</td>\n",
       "      <td>57.6</td>\n",
       "      <td>5.8</td>\n",
       "      <td>23.6</td>\n",
       "      <td>80</td>\n",
       "      <td>30</td>\n",
       "    </tr>\n",
       "    <tr>\n",
       "      <th>Parmesan</th>\n",
       "      <td>381</td>\n",
       "      <td>240.0</td>\n",
       "      <td>334.6</td>\n",
       "      <td>27.5</td>\n",
       "      <td>90.0</td>\n",
       "      <td>5.2</td>\n",
       "      <td>35.7</td>\n",
       "      <td>80</td>\n",
       "      <td>46</td>\n",
       "    </tr>\n",
       "    <tr>\n",
       "      <th>Petitsuisse40</th>\n",
       "      <td>142</td>\n",
       "      <td>22.0</td>\n",
       "      <td>78.2</td>\n",
       "      <td>10.4</td>\n",
       "      <td>63.4</td>\n",
       "      <td>20.4</td>\n",
       "      <td>9.4</td>\n",
       "      <td>20</td>\n",
       "      <td>10</td>\n",
       "    </tr>\n",
       "    <tr>\n",
       "      <th>PontlEveque</th>\n",
       "      <td>300</td>\n",
       "      <td>223.0</td>\n",
       "      <td>156.7</td>\n",
       "      <td>23.4</td>\n",
       "      <td>53.0</td>\n",
       "      <td>4.0</td>\n",
       "      <td>21.1</td>\n",
       "      <td>70</td>\n",
       "      <td>22</td>\n",
       "    </tr>\n",
       "    <tr>\n",
       "      <th>Pyrenees</th>\n",
       "      <td>355</td>\n",
       "      <td>232.0</td>\n",
       "      <td>178.9</td>\n",
       "      <td>28.0</td>\n",
       "      <td>51.5</td>\n",
       "      <td>6.8</td>\n",
       "      <td>22.4</td>\n",
       "      <td>90</td>\n",
       "      <td>25</td>\n",
       "    </tr>\n",
       "    <tr>\n",
       "      <th>Reblochon</th>\n",
       "      <td>309</td>\n",
       "      <td>272.0</td>\n",
       "      <td>202.3</td>\n",
       "      <td>24.6</td>\n",
       "      <td>73.1</td>\n",
       "      <td>8.1</td>\n",
       "      <td>19.7</td>\n",
       "      <td>80</td>\n",
       "      <td>30</td>\n",
       "    </tr>\n",
       "    <tr>\n",
       "      <th>Rocquefort</th>\n",
       "      <td>370</td>\n",
       "      <td>432.0</td>\n",
       "      <td>162.0</td>\n",
       "      <td>31.2</td>\n",
       "      <td>83.5</td>\n",
       "      <td>13.3</td>\n",
       "      <td>18.7</td>\n",
       "      <td>100</td>\n",
       "      <td>25</td>\n",
       "    </tr>\n",
       "    <tr>\n",
       "      <th>SaintPaulin</th>\n",
       "      <td>298</td>\n",
       "      <td>205.0</td>\n",
       "      <td>261.0</td>\n",
       "      <td>23.3</td>\n",
       "      <td>60.4</td>\n",
       "      <td>6.7</td>\n",
       "      <td>23.3</td>\n",
       "      <td>70</td>\n",
       "      <td>26</td>\n",
       "    </tr>\n",
       "    <tr>\n",
       "      <th>Tome</th>\n",
       "      <td>321</td>\n",
       "      <td>252.0</td>\n",
       "      <td>125.5</td>\n",
       "      <td>27.3</td>\n",
       "      <td>62.3</td>\n",
       "      <td>6.2</td>\n",
       "      <td>21.8</td>\n",
       "      <td>80</td>\n",
       "      <td>20</td>\n",
       "    </tr>\n",
       "    <tr>\n",
       "      <th>Vacherin</th>\n",
       "      <td>321</td>\n",
       "      <td>140.0</td>\n",
       "      <td>218.0</td>\n",
       "      <td>29.3</td>\n",
       "      <td>49.2</td>\n",
       "      <td>3.7</td>\n",
       "      <td>17.6</td>\n",
       "      <td>80</td>\n",
       "      <td>30</td>\n",
       "    </tr>\n",
       "    <tr>\n",
       "      <th>Yaourtlaitent.nat.</th>\n",
       "      <td>70</td>\n",
       "      <td>91.0</td>\n",
       "      <td>215.7</td>\n",
       "      <td>3.4</td>\n",
       "      <td>42.9</td>\n",
       "      <td>2.9</td>\n",
       "      <td>4.1</td>\n",
       "      <td>13</td>\n",
       "      <td>14</td>\n",
       "    </tr>\n",
       "  </tbody>\n",
       "</table>\n",
       "</div>"
      ],
      "text/plain": [
       "                    calories  sodium  calcium  lipides  retinol  folates  \\\n",
       "Fromages                                                                   \n",
       "CarredelEst              314   353.5     72.6     26.3     51.6     30.3   \n",
       "Babybel                  314   238.0    209.8     25.1     63.7      6.4   \n",
       "Beaufort                 401   112.0    259.4     33.3     54.9      1.2   \n",
       "Bleu                     342   336.0    211.1     28.9     37.1     27.5   \n",
       "Camembert                264   314.0    215.9     19.5    103.0     36.4   \n",
       "Cantal                   367   256.0    264.0     28.8     48.8      5.7   \n",
       "Chabichou                344   192.0     87.2     27.9     90.1     36.3   \n",
       "Chaource                 292   276.0    132.9     25.4    116.4     32.5   \n",
       "Cheddar                  406   172.0    182.3     32.5     76.4      4.9   \n",
       "Comte                    399    92.0    220.5     32.4     55.9      1.3   \n",
       "Coulomniers              308   222.0     79.2     25.6     63.6     21.1   \n",
       "Edam                     327   148.0    272.2     24.7     65.7      5.5   \n",
       "Emmental                 378    60.0    308.2     29.4     56.3      2.4   \n",
       "Fr.chevrepatemolle       206   160.0     72.8     18.5    150.5     31.0   \n",
       "Fr.fondu.45              292   390.0    168.5     24.0     77.4      5.5   \n",
       "Fr.frais20nat.            80    41.0    146.3      3.5     50.0     20.0   \n",
       "Fr.frais40nat.           115    25.0     94.8      7.8     64.3     22.6   \n",
       "Maroilles                338   311.0    236.7     29.1     46.7      3.6   \n",
       "Morbier                  347   285.0    219.0     29.5     57.6      5.8   \n",
       "Parmesan                 381   240.0    334.6     27.5     90.0      5.2   \n",
       "Petitsuisse40            142    22.0     78.2     10.4     63.4     20.4   \n",
       "PontlEveque              300   223.0    156.7     23.4     53.0      4.0   \n",
       "Pyrenees                 355   232.0    178.9     28.0     51.5      6.8   \n",
       "Reblochon                309   272.0    202.3     24.6     73.1      8.1   \n",
       "Rocquefort               370   432.0    162.0     31.2     83.5     13.3   \n",
       "SaintPaulin              298   205.0    261.0     23.3     60.4      6.7   \n",
       "Tome                     321   252.0    125.5     27.3     62.3      6.2   \n",
       "Vacherin                 321   140.0    218.0     29.3     49.2      3.7   \n",
       "Yaourtlaitent.nat.        70    91.0    215.7      3.4     42.9      2.9   \n",
       "\n",
       "                    proteines  cholesterol  magnesium  \n",
       "Fromages                                               \n",
       "CarredelEst              21.0           70         20  \n",
       "Babybel                  22.6           70         27  \n",
       "Beaufort                 26.6          120         41  \n",
       "Bleu                     20.2           90         27  \n",
       "Camembert                23.4           60         20  \n",
       "Cantal                   23.0           90         30  \n",
       "Chabichou                19.5           80         36  \n",
       "Chaource                 17.8           70         25  \n",
       "Cheddar                  26.0          110         28  \n",
       "Comte                    29.2          120         51  \n",
       "Coulomniers              20.5           80         13  \n",
       "Edam                     24.7           80         44  \n",
       "Emmental                 29.4          110         45  \n",
       "Fr.chevrepatemolle       11.1           50         16  \n",
       "Fr.fondu.45              16.8           70         20  \n",
       "Fr.frais20nat.            8.3           10         11  \n",
       "Fr.frais40nat.            7.0           30         10  \n",
       "Maroilles                20.4           90         40  \n",
       "Morbier                  23.6           80         30  \n",
       "Parmesan                 35.7           80         46  \n",
       "Petitsuisse40             9.4           20         10  \n",
       "PontlEveque              21.1           70         22  \n",
       "Pyrenees                 22.4           90         25  \n",
       "Reblochon                19.7           80         30  \n",
       "Rocquefort               18.7          100         25  \n",
       "SaintPaulin              23.3           70         26  \n",
       "Tome                     21.8           80         20  \n",
       "Vacherin                 17.6           80         30  \n",
       "Yaourtlaitent.nat.        4.1           13         14  "
      ]
     },
     "execution_count": 2,
     "metadata": {},
     "output_type": "execute_result"
    }
   ],
   "source": [
    "fromage"
   ]
  },
  {
   "cell_type": "code",
   "execution_count": 3,
   "metadata": {},
   "outputs": [
    {
     "name": "stdout",
     "output_type": "stream",
     "text": [
      "Les données de la dataset fromage :  (29, 9)\n"
     ]
    }
   ],
   "source": [
    "print(\"Les données de la dataset fromage : \",fromage.shape)"
   ]
  },
  {
   "cell_type": "markdown",
   "metadata": {},
   "source": [
    "***\n",
    "\n",
    "* **La dataset fromage présente <font color='darkturquoise'> 29 instances</font> des <font color='darkturquoise'> 9 attributs </font> (<font color='slategrey'> calories,  sodium,  calcium,  lipides,  retinol,  folates,  proteines, cholesterol et magnesium </font>). Elle présente que des caractéristiques d'entrée (les attributs) et pas de variable de sortie (l'étiquette de classe). Ce sont des données <font color='darkturquoise'> non etiquetées (unlabeled data) </font> => Les modèles d'apprentissage non supervisé, contrairement à l'apprentissage supervisé, travaillent seuls pour découvrir la structure inhérente des données non étiquetées.**\n",
    "\n",
    "***"
   ]
  },
  {
   "cell_type": "markdown",
   "metadata": {},
   "source": [
    "#### <font color='darkorange' size=3> 2. Maintenant on veut visualiser la matrice de distribution de données: </font>"
   ]
  },
  {
   "cell_type": "code",
   "execution_count": 4,
   "metadata": {},
   "outputs": [
    {
     "data": {
      "image/png": "[encoded data removed]",
      "text/plain": [
       "<Figure size 1080x720 with 81 Axes>"
      ]
     },
     "metadata": {
      "needs_background": "light"
     },
     "output_type": "display_data"
    }
   ],
   "source": [
    "_ = pd.plotting.scatter_matrix(fromage, figsize=(15,10))"
   ]
  },
  {
   "cell_type": "markdown",
   "metadata": {},
   "source": [
    "***\n",
    "\n",
    "* **On remarque que certains attributs sont <font color='darkturquoise'> fortement corrélés</font> par exemple 'lipides' et 'cholesterol' ainsi que 'cholesterol' et 'calories'. Ça va résulter que la même information va peser 3 fois dans l'analyse.**\n",
    "* **On remarque aussi qu'il y a une correlation entre groupe qui apparait par exemple entre 'proteines' et 'cholesterol'**\n",
    "\n",
    "***"
   ]
  },
  {
   "cell_type": "markdown",
   "metadata": {},
   "source": [
    "## <font color='darkorchid' size=6> Partie 2: Méthode des centres mobiles </font>"
   ]
  },
  {
   "cell_type": "markdown",
   "metadata": {},
   "source": [
    "#### <font color='darkorange' size=3> 1. Comprendre et programmer les lignes suivantes : </font>"
   ]
  },
  {
   "cell_type": "code",
   "execution_count": 5,
   "metadata": {
    "scrolled": true
   },
   "outputs": [
    {
     "name": "stdout",
     "output_type": "stream",
     "text": [
      "             Fromages\n",
      "0            Parmesan\n",
      "0            Beaufort\n",
      "0         SaintPaulin\n",
      "0            Vacherin\n",
      "0            Emmental\n",
      "0             Cheddar\n",
      "0               Comte\n",
      "0                Edam\n",
      "1         Coulomniers\n",
      "1            Pyrenees\n",
      "1  Fr.chevrepatemolle\n",
      "1         PontlEveque\n",
      "1            Chaource\n",
      "1           Chabichou\n",
      "1                Tome\n",
      "1             Babybel\n",
      "2      Fr.frais20nat.\n",
      "2      Fr.frais40nat.\n",
      "2       Petitsuisse40\n",
      "2  Yaourtlaitent.nat.\n",
      "3          Rocquefort\n",
      "3           Reblochon\n",
      "3         CarredelEst\n",
      "3           Maroilles\n",
      "3              Cantal\n",
      "3           Camembert\n",
      "3                Bleu\n",
      "3             Morbier\n",
      "3         Fr.fondu.45\n",
      "[[285.36163076 145.45179721 384.27301005 127.66904456]\n",
      " [118.43379084  84.03758274 303.10311983  93.02921551]\n",
      " [ 56.72603293 205.07356073 349.91323389 241.39308525]\n",
      " [200.30401971 150.63556291 393.76898843  39.24299576]\n",
      " [210.31138298 134.45026148 332.43471728  84.3287841 ]\n",
      " [111.73150994 155.73016828 371.97076666 109.43789941]\n",
      " [182.80599775  71.12160581 298.65300308 177.37236865]\n",
      " [204.98823213  65.55089864 311.48990553 104.25679538]\n",
      " [ 92.26223665 131.4224498  348.48685233 178.29581675]\n",
      " [ 79.32509258 196.16115266 333.83554522 252.73178678]\n",
      " [204.4018782   55.67198858 285.29211565 158.4463507 ]\n",
      " [ 43.74211715 165.35124073 293.81905359 196.77100465]\n",
      " [102.59674855 258.37172893 343.1669947  297.71373358]\n",
      " [265.24828993 151.44015423 195.86579908 257.98468612]\n",
      " [271.72958122 171.05399824 400.47054979  79.04276933]\n",
      " [336.96303256 300.49708453  27.57918146 389.61319628]\n",
      " [330.65941362 282.79253051  48.43507252 387.38459277]\n",
      " [169.20512053 147.91506114 379.74839203  53.53173975]\n",
      " [146.31641334 118.87963582 360.87135     54.54162981]\n",
      " [127.37007228 220.90668349 405.05415842 177.58997546]\n",
      " [322.76561591 271.94791379  73.02996816 381.71584464]\n",
      " [145.61200264  41.75132109 273.9400961  116.40240282]\n",
      " [118.1602421   78.84405693 327.69454718 102.5465501 ]\n",
      " [149.56115075  87.82458547 323.02206001  60.25771914]\n",
      " [302.57210349 221.56412799 480.78906108 120.6048573 ]\n",
      " [ 93.47945128 134.52312185 289.74900561 143.28405527]\n",
      " [176.06769384  40.06108227 309.5039923  103.38872948]\n",
      " [ 63.47704556 128.07874653 263.14012664 190.27707121]\n",
      " [316.6232269  294.09106211 101.24362326 358.84578155]]\n"
     ]
    }
   ],
   "source": [
    "import numpy as np\n",
    "from sklearn import cluster\n",
    "np.random.seed(0)\n",
    "#declaration du modele\n",
    "kmeans = cluster.KMeans(n_clusters = 4)\n",
    "kmeans.fit(fromage)\n",
    "#index triés des groupes\n",
    "idk = np.argsort(kmeans.labels_)\n",
    "#affichage des observations et leurs groupes\n",
    "print(pd.DataFrame(fromage.index[idk],kmeans.labels_[idk]))\n",
    "#distances aux centres de groupes des observations\n",
    "print(kmeans.transform(fromage))"
   ]
  },
  {
   "cell_type": "markdown",
   "metadata": {},
   "source": [
    "***\n",
    "\n",
    "* **Le programme crée un modèle pour un ensemble de 4 clusters. Il fait l'apprentissage sur la dataset fromage. L'algorithme regroupe chaque point de données avec le centroid le plus proche (c'est-à-dire le plus proche en distance). On utilise argsort pour effectuer un tri indirect selon le groupe. Il renvoie un tableau d'indices de la même forme que le tableau qui le trierait (kmeans.labels_). On affiche les observations avec leurs groupes et puis on affiche pour chaque instance un array qui contient les distances entre cette observation et chaque cluster en utilisant la méthode transform.**\n",
    "\n",
    "***"
   ]
  },
  {
   "cell_type": "markdown",
   "metadata": {},
   "source": [
    "#### <font color='darkorange' size=3> 2. Donnez les attributs des centres de chaque cluster.</font>"
   ]
  },
  {
   "cell_type": "code",
   "execution_count": 6,
   "metadata": {},
   "outputs": [
    {
     "name": "stdout",
     "output_type": "stream",
     "text": [
      "[[363.875      146.125      257.025       29.05        63.6\n",
      "    3.8625      26.5625      96.25        38.875     ]\n",
      " [305.         224.375      130.375       25.15        81.3875\n",
      "   18.0375      19.6         73.75        23.        ]\n",
      " [101.75        44.75       133.75         6.275       55.15\n",
      "   16.475        7.2         18.25        11.25      ]\n",
      " [327.         327.72222222 194.67777778  26.87777778  64.31111111\n",
      "   15.13333333  20.75555556  81.11111111  26.88888889]]\n"
     ]
    }
   ],
   "source": [
    "print(kmeans.cluster_centers_)"
   ]
  },
  {
   "cell_type": "markdown",
   "metadata": {},
   "source": [
    "### <font color='limegreen' size=4> Aide à la détection du nombre adéquat de groupes </font>"
   ]
  },
  {
   "cell_type": "markdown",
   "metadata": {},
   "source": [
    "#### <font color='darkorange' size=3> 1. Comprendre et programmer les lignes suivantes :</font>"
   ]
  },
  {
   "cell_type": "code",
   "execution_count": 7,
   "metadata": {},
   "outputs": [
    {
     "name": "stdout",
     "output_type": "stream",
     "text": [
      "[0.50681355 0.37299771 0.3369907  0.35737616 0.32609984 0.2888388\n",
      " 0.29480635 0.2872981  0.24638892]\n"
     ]
    },
    {
     "data": {
      "text/plain": [
       "<function matplotlib.pyplot.show(close=None, block=None)>"
      ]
     },
     "execution_count": 7,
     "metadata": {},
     "output_type": "execute_result"
    },
    {
     "data": {
      "image/png": "[encoded data removed]",
      "text/plain": [
       "<Figure size 432x288 with 1 Axes>"
      ]
     },
     "metadata": {
      "needs_background": "light"
     },
     "output_type": "display_data"
    }
   ],
   "source": [
    "from sklearn import metrics\n",
    "#utilisation de la métrique \"silhouette\" \n",
    "res = np.arange(9,dtype =\"double\")\n",
    "for k in np.arange(9):\n",
    "    km = cluster.KMeans(n_clusters =k+2)\n",
    "    km.fit(fromage)\n",
    "    res[k] = metrics.silhouette_score(fromage,km.labels_)\n",
    "print (res)\n",
    "#graphique\n",
    "import matplotlib.pyplot as plt\n",
    "plt.title(\"silhouette\")\n",
    "plt.xlabel(\"# of clusters\")\n",
    "plt.plot(np.arange(2,11,1),(res))\n",
    "plt.show"
   ]
  },
  {
   "cell_type": "markdown",
   "metadata": {},
   "source": [
    "***\n",
    "\n",
    "* **Ce programme exécute l'algorithme k-means sur la dataset fromage 9 fois pour des k clusters qui varient de 2 à 10 et calcule à chaque fois le coefficient/ métrique silhouette. Puis il affiche les différents coefficients et les plote**\n",
    "\n",
    "***"
   ]
  },
  {
   "cell_type": "markdown",
   "metadata": {},
   "source": [
    "#### <font color='darkorange' size=3> 2. Quelle est la meilleure valeur de k (nombre de clusters) selon la métrique silhouette? </font>"
   ]
  },
  {
   "cell_type": "markdown",
   "metadata": {},
   "source": [
    "***\n",
    "* **La partition en <span style=\"text-decoration:underline; color:darkturquoise\">k = 2</span> groupes semble la meilleure au sens de la métrique silhouette (elle à la métrique silhouette la plus élevée)**\n",
    "\n",
    "***"
   ]
  },
  {
   "cell_type": "markdown",
   "metadata": {},
   "source": [
    "## <font color='darkorchid' size=6> Partie 3: Classification ascendante hiérarchique </font>"
   ]
  },
  {
   "cell_type": "markdown",
   "metadata": {},
   "source": [
    "#### <font color='darkorange' size=3> 1. Comprendre et programmer les lignes suivantes :</font>"
   ]
  },
  {
   "cell_type": "code",
   "execution_count": 8,
   "metadata": {},
   "outputs": [
    {
     "data": {
      "image/png": "[encoded data removed]",
      "text/plain": [
       "<Figure size 432x288 with 1 Axes>"
      ]
     },
     "metadata": {
      "needs_background": "light"
     },
     "output_type": "display_data"
    },
    {
     "name": "stdout",
     "output_type": "stream",
     "text": [
      "Les groupes CAH [3 4 2 3 3 2 4 4 2 2 4 2 2 4 3 1 1 3 3 2 1 4 4 4 3 2 4 2 1]\n"
     ]
    },
    {
     "data": {
      "text/html": [
       "<div>\n",
       "<style scoped>\n",
       "    .dataframe tbody tr th:only-of-type {\n",
       "        vertical-align: middle;\n",
       "    }\n",
       "\n",
       "    .dataframe tbody tr th {\n",
       "        vertical-align: top;\n",
       "    }\n",
       "\n",
       "    .dataframe thead th {\n",
       "        text-align: right;\n",
       "    }\n",
       "</style>\n",
       "<table border=\"1\" class=\"dataframe\">\n",
       "  <thead>\n",
       "    <tr style=\"text-align: right;\">\n",
       "      <th></th>\n",
       "      <th>Fromages</th>\n",
       "    </tr>\n",
       "  </thead>\n",
       "  <tbody>\n",
       "    <tr>\n",
       "      <th>1</th>\n",
       "      <td>Yaourtlaitent.nat.</td>\n",
       "    </tr>\n",
       "    <tr>\n",
       "      <th>1</th>\n",
       "      <td>Petitsuisse40</td>\n",
       "    </tr>\n",
       "    <tr>\n",
       "      <th>1</th>\n",
       "      <td>Fr.frais40nat.</td>\n",
       "    </tr>\n",
       "    <tr>\n",
       "      <th>1</th>\n",
       "      <td>Fr.frais20nat.</td>\n",
       "    </tr>\n",
       "    <tr>\n",
       "      <th>2</th>\n",
       "      <td>SaintPaulin</td>\n",
       "    </tr>\n",
       "    <tr>\n",
       "      <th>2</th>\n",
       "      <td>Beaufort</td>\n",
       "    </tr>\n",
       "    <tr>\n",
       "      <th>2</th>\n",
       "      <td>Cantal</td>\n",
       "    </tr>\n",
       "    <tr>\n",
       "      <th>2</th>\n",
       "      <td>Parmesan</td>\n",
       "    </tr>\n",
       "    <tr>\n",
       "      <th>2</th>\n",
       "      <td>Cheddar</td>\n",
       "    </tr>\n",
       "    <tr>\n",
       "      <th>2</th>\n",
       "      <td>Comte</td>\n",
       "    </tr>\n",
       "    <tr>\n",
       "      <th>2</th>\n",
       "      <td>Edam</td>\n",
       "    </tr>\n",
       "    <tr>\n",
       "      <th>2</th>\n",
       "      <td>Emmental</td>\n",
       "    </tr>\n",
       "    <tr>\n",
       "      <th>2</th>\n",
       "      <td>Vacherin</td>\n",
       "    </tr>\n",
       "    <tr>\n",
       "      <th>3</th>\n",
       "      <td>Rocquefort</td>\n",
       "    </tr>\n",
       "    <tr>\n",
       "      <th>3</th>\n",
       "      <td>Morbier</td>\n",
       "    </tr>\n",
       "    <tr>\n",
       "      <th>3</th>\n",
       "      <td>Maroilles</td>\n",
       "    </tr>\n",
       "    <tr>\n",
       "      <th>3</th>\n",
       "      <td>CarredelEst</td>\n",
       "    </tr>\n",
       "    <tr>\n",
       "      <th>3</th>\n",
       "      <td>Camembert</td>\n",
       "    </tr>\n",
       "    <tr>\n",
       "      <th>3</th>\n",
       "      <td>Bleu</td>\n",
       "    </tr>\n",
       "    <tr>\n",
       "      <th>3</th>\n",
       "      <td>Fr.fondu.45</td>\n",
       "    </tr>\n",
       "    <tr>\n",
       "      <th>4</th>\n",
       "      <td>Coulomniers</td>\n",
       "    </tr>\n",
       "    <tr>\n",
       "      <th>4</th>\n",
       "      <td>Chaource</td>\n",
       "    </tr>\n",
       "    <tr>\n",
       "      <th>4</th>\n",
       "      <td>Chabichou</td>\n",
       "    </tr>\n",
       "    <tr>\n",
       "      <th>4</th>\n",
       "      <td>PontlEveque</td>\n",
       "    </tr>\n",
       "    <tr>\n",
       "      <th>4</th>\n",
       "      <td>Pyrenees</td>\n",
       "    </tr>\n",
       "    <tr>\n",
       "      <th>4</th>\n",
       "      <td>Reblochon</td>\n",
       "    </tr>\n",
       "    <tr>\n",
       "      <th>4</th>\n",
       "      <td>Babybel</td>\n",
       "    </tr>\n",
       "    <tr>\n",
       "      <th>4</th>\n",
       "      <td>Tome</td>\n",
       "    </tr>\n",
       "    <tr>\n",
       "      <th>4</th>\n",
       "      <td>Fr.chevrepatemolle</td>\n",
       "    </tr>\n",
       "  </tbody>\n",
       "</table>\n",
       "</div>"
      ],
      "text/plain": [
       "             Fromages\n",
       "1  Yaourtlaitent.nat.\n",
       "1       Petitsuisse40\n",
       "1      Fr.frais40nat.\n",
       "1      Fr.frais20nat.\n",
       "2         SaintPaulin\n",
       "2            Beaufort\n",
       "2              Cantal\n",
       "2            Parmesan\n",
       "2             Cheddar\n",
       "2               Comte\n",
       "2                Edam\n",
       "2            Emmental\n",
       "2            Vacherin\n",
       "3          Rocquefort\n",
       "3             Morbier\n",
       "3           Maroilles\n",
       "3         CarredelEst\n",
       "3           Camembert\n",
       "3                Bleu\n",
       "3         Fr.fondu.45\n",
       "4         Coulomniers\n",
       "4            Chaource\n",
       "4           Chabichou\n",
       "4         PontlEveque\n",
       "4            Pyrenees\n",
       "4           Reblochon\n",
       "4             Babybel\n",
       "4                Tome\n",
       "4  Fr.chevrepatemolle"
      ]
     },
     "execution_count": 8,
     "metadata": {},
     "output_type": "execute_result"
    }
   ],
   "source": [
    "import pandas\n",
    "import numpy as np\n",
    "#librairies pour la CAH\n",
    "from matplotlib import pyplot as plt\n",
    "from scipy.cluster.hierarchy import dendrogram, linkage, fcluster\n",
    "#générer la matrice des liens\n",
    "Z = linkage(fromage,method='ward', metric='euclidean')\n",
    "#affichage du dendrogramme\n",
    "plt.title(\"CAH\")\n",
    "plt.title('CAH avec matérialisation des 4 classes')\n",
    "dendrogram(Z,labels=fromage.index,orientation='left',color_threshold=255)\n",
    "plt.show()\n",
    "groupes_cah = fcluster(Z, t = 255,criterion='distance')\n",
    "print('Les groupes CAH',groupes_cah)\n",
    "#index triés des groupes\n",
    "idg = np.argsort(groupes_cah)\n",
    "#affichage des observations et leurs groupes\n",
    "pandas.DataFrame(fromage.index[idg],groupes_cah[idg])"
   ]
  },
  {
   "cell_type": "markdown",
   "metadata": {},
   "source": [
    "***\n",
    "\n",
    "\n",
    "* **Ce programme génère une matrice des liens Z codant le clustering hiérarchique. Puis, il affiche le dendrogramme en utilisant Z, avec \"labels\" égale aux observations de la dataset fromage, \"orientation\" est \"left\" pour tracer la racine à gauche et tracer les liens descendants à droite et finalement, \"color_threshold = 255\".**\n",
    "* **Ensuite, on forme et affiche des clusters plats à partir du regroupement hiérarchique défini par la matrice des liens données, avec \"t (le seuil) = 255\" et \"criterion='distance'\" qui indique que les observations originales dans chaque cluster plat n'ont pas une distance supérieure à t.** \n",
    "* **On tri le résultat et on affiche les observations avec leurs clusters dans un DataFrame.**\n",
    "\n",
    "***"
   ]
  },
  {
   "cell_type": "markdown",
   "metadata": {},
   "source": [
    "#### <font color='darkorange' size=3> 2. Interpréter les résultats </font>"
   ]
  },
  {
   "cell_type": "markdown",
   "metadata": {},
   "source": [
    "***\n",
    "* **Une division en <font color='darkturquoise'> 4 groupes </font> est suggérée par le dendrogramme. On note que le groupe des fromages de couleur orange, tout en bas,  semble être très distinct des autres, au point qu'on aurait dû répartir les fromages en 2 groupes seulement.**\n",
    "***"
   ]
  },
  {
   "cell_type": "markdown",
   "metadata": {},
   "source": [
    "#### <font color='darkorange' size=3> 3. Donnez la correspondance entre les groupes de la CAH et les clusters de Kmeans en utilisant la méthode pandas.crosstab </font>"
   ]
  },
  {
   "cell_type": "code",
   "execution_count": 9,
   "metadata": {},
   "outputs": [
    {
     "data": {
      "text/html": [
       "<div>\n",
       "<style scoped>\n",
       "    .dataframe tbody tr th:only-of-type {\n",
       "        vertical-align: middle;\n",
       "    }\n",
       "\n",
       "    .dataframe tbody tr th {\n",
       "        vertical-align: top;\n",
       "    }\n",
       "\n",
       "    .dataframe thead th {\n",
       "        text-align: right;\n",
       "    }\n",
       "</style>\n",
       "<table border=\"1\" class=\"dataframe\">\n",
       "  <thead>\n",
       "    <tr style=\"text-align: right;\">\n",
       "      <th>K-means</th>\n",
       "      <th>0</th>\n",
       "      <th>1</th>\n",
       "      <th>2</th>\n",
       "      <th>3</th>\n",
       "    </tr>\n",
       "    <tr>\n",
       "      <th>CAH</th>\n",
       "      <th></th>\n",
       "      <th></th>\n",
       "      <th></th>\n",
       "      <th></th>\n",
       "    </tr>\n",
       "  </thead>\n",
       "  <tbody>\n",
       "    <tr>\n",
       "      <th>1</th>\n",
       "      <td>0</td>\n",
       "      <td>0</td>\n",
       "      <td>4</td>\n",
       "      <td>0</td>\n",
       "    </tr>\n",
       "    <tr>\n",
       "      <th>2</th>\n",
       "      <td>8</td>\n",
       "      <td>0</td>\n",
       "      <td>0</td>\n",
       "      <td>1</td>\n",
       "    </tr>\n",
       "    <tr>\n",
       "      <th>3</th>\n",
       "      <td>0</td>\n",
       "      <td>0</td>\n",
       "      <td>0</td>\n",
       "      <td>7</td>\n",
       "    </tr>\n",
       "    <tr>\n",
       "      <th>4</th>\n",
       "      <td>0</td>\n",
       "      <td>8</td>\n",
       "      <td>0</td>\n",
       "      <td>1</td>\n",
       "    </tr>\n",
       "  </tbody>\n",
       "</table>\n",
       "</div>"
      ],
      "text/plain": [
       "K-means  0  1  2  3\n",
       "CAH                \n",
       "1        0  0  4  0\n",
       "2        8  0  0  1\n",
       "3        0  0  0  7\n",
       "4        0  8  0  1"
      ]
     },
     "execution_count": 9,
     "metadata": {},
     "output_type": "execute_result"
    }
   ],
   "source": [
    "pandas.crosstab(groupes_cah,kmeans.labels_,rownames=['CAH'],colnames=['K-means'])"
   ]
  },
  {
   "cell_type": "markdown",
   "metadata": {},
   "source": [
    "## <font color='darkorchid' size=6> Partie 4: Interprétation des classes </font>"
   ]
  },
  {
   "cell_type": "markdown",
   "metadata": {},
   "source": [
    "#### <font color='darkorange' size=3> 1. Comprendre et programmer les lignes suivantes :</font>"
   ]
  },
  {
   "cell_type": "code",
   "execution_count": 10,
   "metadata": {},
   "outputs": [
    {
     "data": {
      "image/png": "[encoded data removed]",
      "text/plain": [
       "<Figure size 432x288 with 1 Axes>"
      ]
     },
     "metadata": {
      "needs_background": "light"
     },
     "output_type": "display_data"
    }
   ],
   "source": [
    "from sklearn.decomposition import PCA\n",
    "acp= PCA(n_components =2).fit_transform(fromage)\n",
    "for couleur,k in zip(['red','blue','lawngreen', 'aqua'],[0,1,2,3]):\n",
    "    plt.scatter(acp[km.labels_==k,0],acp[km.labels_==k,1],c=couleur)\n",
    "plt.show()"
   ]
  },
  {
   "cell_type": "markdown",
   "metadata": {},
   "source": [
    "***\n",
    "* **Ce programme va diminuer les composants en 2 en utilisant PCA (Analyse des composants principaux) puis il va projeter les données dans le plan factoriel avec un code couleur différent selon le groupe.**\n",
    "***"
   ]
  },
  {
   "cell_type": "markdown",
   "metadata": {},
   "source": [
    "#### <font color='darkorange' size=3> 2. Interprétez les résultats </font>"
   ]
  },
  {
   "cell_type": "markdown",
   "metadata": {},
   "source": [
    "***\n",
    "* **On constate qu'il y a un problème. Le groupe de fromages n°1 en blue écrase les données existantes et emballe les fromages restants dans la partie gauche du scatteplot.\n",
    "En fait, une fois que l'on comprend la nature du groupe n°1 des fromages, les autres du premier plan factoriel deviennent plus difficiles à appréhender.**\n",
    "***"
   ]
  },
  {
   "cell_type": "markdown",
   "metadata": {},
   "source": [
    "## <font color='limegreen' size=5> Appliquez sur le même jeu de données, la méthode de clustering CAH du package sklearn.cluster.AgglomerativeClustering. Comparez les résultats.</font>"
   ]
  },
  {
   "cell_type": "markdown",
   "metadata": {},
   "source": [
    "#### <font color='palevioletred'> 4 clusters </font>"
   ]
  },
  {
   "cell_type": "code",
   "execution_count": 11,
   "metadata": {},
   "outputs": [],
   "source": [
    "from sklearn.cluster import AgglomerativeClustering\n",
    "\n",
    "acluster = AgglomerativeClustering(n_clusters=4).fit(fromage)"
   ]
  },
  {
   "cell_type": "code",
   "execution_count": 12,
   "metadata": {},
   "outputs": [
    {
     "name": "stdout",
     "output_type": "stream",
     "text": [
      "[1 2 0 1 1 0 2 2 0 0 2 0 0 2 1 3 3 1 1 0 3 2 2 2 1 0 2 0 3]\n"
     ]
    }
   ],
   "source": [
    "print(acluster.labels_)"
   ]
  },
  {
   "cell_type": "code",
   "execution_count": 13,
   "metadata": {},
   "outputs": [
    {
     "data": {
      "text/html": [
       "<div>\n",
       "<style scoped>\n",
       "    .dataframe tbody tr th:only-of-type {\n",
       "        vertical-align: middle;\n",
       "    }\n",
       "\n",
       "    .dataframe tbody tr th {\n",
       "        vertical-align: top;\n",
       "    }\n",
       "\n",
       "    .dataframe thead th {\n",
       "        text-align: right;\n",
       "    }\n",
       "</style>\n",
       "<table border=\"1\" class=\"dataframe\">\n",
       "  <thead>\n",
       "    <tr style=\"text-align: right;\">\n",
       "      <th></th>\n",
       "      <th>Fromages</th>\n",
       "    </tr>\n",
       "  </thead>\n",
       "  <tbody>\n",
       "    <tr>\n",
       "      <th>0</th>\n",
       "      <td>SaintPaulin</td>\n",
       "    </tr>\n",
       "    <tr>\n",
       "      <th>0</th>\n",
       "      <td>Beaufort</td>\n",
       "    </tr>\n",
       "    <tr>\n",
       "      <th>0</th>\n",
       "      <td>Parmesan</td>\n",
       "    </tr>\n",
       "    <tr>\n",
       "      <th>0</th>\n",
       "      <td>Cantal</td>\n",
       "    </tr>\n",
       "    <tr>\n",
       "      <th>0</th>\n",
       "      <td>Cheddar</td>\n",
       "    </tr>\n",
       "    <tr>\n",
       "      <th>0</th>\n",
       "      <td>Comte</td>\n",
       "    </tr>\n",
       "    <tr>\n",
       "      <th>0</th>\n",
       "      <td>Vacherin</td>\n",
       "    </tr>\n",
       "    <tr>\n",
       "      <th>0</th>\n",
       "      <td>Edam</td>\n",
       "    </tr>\n",
       "    <tr>\n",
       "      <th>0</th>\n",
       "      <td>Emmental</td>\n",
       "    </tr>\n",
       "    <tr>\n",
       "      <th>1</th>\n",
       "      <td>CarredelEst</td>\n",
       "    </tr>\n",
       "    <tr>\n",
       "      <th>1</th>\n",
       "      <td>Rocquefort</td>\n",
       "    </tr>\n",
       "    <tr>\n",
       "      <th>1</th>\n",
       "      <td>Morbier</td>\n",
       "    </tr>\n",
       "    <tr>\n",
       "      <th>1</th>\n",
       "      <td>Maroilles</td>\n",
       "    </tr>\n",
       "    <tr>\n",
       "      <th>1</th>\n",
       "      <td>Fr.fondu.45</td>\n",
       "    </tr>\n",
       "    <tr>\n",
       "      <th>1</th>\n",
       "      <td>Camembert</td>\n",
       "    </tr>\n",
       "    <tr>\n",
       "      <th>1</th>\n",
       "      <td>Bleu</td>\n",
       "    </tr>\n",
       "    <tr>\n",
       "      <th>2</th>\n",
       "      <td>Coulomniers</td>\n",
       "    </tr>\n",
       "    <tr>\n",
       "      <th>2</th>\n",
       "      <td>Chaource</td>\n",
       "    </tr>\n",
       "    <tr>\n",
       "      <th>2</th>\n",
       "      <td>Chabichou</td>\n",
       "    </tr>\n",
       "    <tr>\n",
       "      <th>2</th>\n",
       "      <td>PontlEveque</td>\n",
       "    </tr>\n",
       "    <tr>\n",
       "      <th>2</th>\n",
       "      <td>Pyrenees</td>\n",
       "    </tr>\n",
       "    <tr>\n",
       "      <th>2</th>\n",
       "      <td>Reblochon</td>\n",
       "    </tr>\n",
       "    <tr>\n",
       "      <th>2</th>\n",
       "      <td>Babybel</td>\n",
       "    </tr>\n",
       "    <tr>\n",
       "      <th>2</th>\n",
       "      <td>Tome</td>\n",
       "    </tr>\n",
       "    <tr>\n",
       "      <th>2</th>\n",
       "      <td>Fr.chevrepatemolle</td>\n",
       "    </tr>\n",
       "    <tr>\n",
       "      <th>3</th>\n",
       "      <td>Fr.frais20nat.</td>\n",
       "    </tr>\n",
       "    <tr>\n",
       "      <th>3</th>\n",
       "      <td>Fr.frais40nat.</td>\n",
       "    </tr>\n",
       "    <tr>\n",
       "      <th>3</th>\n",
       "      <td>Petitsuisse40</td>\n",
       "    </tr>\n",
       "    <tr>\n",
       "      <th>3</th>\n",
       "      <td>Yaourtlaitent.nat.</td>\n",
       "    </tr>\n",
       "  </tbody>\n",
       "</table>\n",
       "</div>"
      ],
      "text/plain": [
       "             Fromages\n",
       "0         SaintPaulin\n",
       "0            Beaufort\n",
       "0            Parmesan\n",
       "0              Cantal\n",
       "0             Cheddar\n",
       "0               Comte\n",
       "0            Vacherin\n",
       "0                Edam\n",
       "0            Emmental\n",
       "1         CarredelEst\n",
       "1          Rocquefort\n",
       "1             Morbier\n",
       "1           Maroilles\n",
       "1         Fr.fondu.45\n",
       "1           Camembert\n",
       "1                Bleu\n",
       "2         Coulomniers\n",
       "2            Chaource\n",
       "2           Chabichou\n",
       "2         PontlEveque\n",
       "2            Pyrenees\n",
       "2           Reblochon\n",
       "2             Babybel\n",
       "2                Tome\n",
       "2  Fr.chevrepatemolle\n",
       "3      Fr.frais20nat.\n",
       "3      Fr.frais40nat.\n",
       "3       Petitsuisse40\n",
       "3  Yaourtlaitent.nat."
      ]
     },
     "execution_count": 13,
     "metadata": {},
     "output_type": "execute_result"
    }
   ],
   "source": [
    "idk = np.argsort(acluster.labels_)\n",
    "pd.DataFrame(fromage.index[idk],acluster.labels_[idk])"
   ]
  },
  {
   "cell_type": "code",
   "execution_count": 14,
   "metadata": {},
   "outputs": [
    {
     "data": {
      "text/html": [
       "<div>\n",
       "<style scoped>\n",
       "    .dataframe tbody tr th:only-of-type {\n",
       "        vertical-align: middle;\n",
       "    }\n",
       "\n",
       "    .dataframe tbody tr th {\n",
       "        vertical-align: top;\n",
       "    }\n",
       "\n",
       "    .dataframe thead th {\n",
       "        text-align: right;\n",
       "    }\n",
       "</style>\n",
       "<table border=\"1\" class=\"dataframe\">\n",
       "  <thead>\n",
       "    <tr style=\"text-align: right;\">\n",
       "      <th>K-means</th>\n",
       "      <th>0</th>\n",
       "      <th>1</th>\n",
       "      <th>2</th>\n",
       "      <th>3</th>\n",
       "    </tr>\n",
       "    <tr>\n",
       "      <th>Agglomerative Clustering</th>\n",
       "      <th></th>\n",
       "      <th></th>\n",
       "      <th></th>\n",
       "      <th></th>\n",
       "    </tr>\n",
       "  </thead>\n",
       "  <tbody>\n",
       "    <tr>\n",
       "      <th>0</th>\n",
       "      <td>8</td>\n",
       "      <td>0</td>\n",
       "      <td>0</td>\n",
       "      <td>1</td>\n",
       "    </tr>\n",
       "    <tr>\n",
       "      <th>1</th>\n",
       "      <td>0</td>\n",
       "      <td>0</td>\n",
       "      <td>0</td>\n",
       "      <td>7</td>\n",
       "    </tr>\n",
       "    <tr>\n",
       "      <th>2</th>\n",
       "      <td>0</td>\n",
       "      <td>8</td>\n",
       "      <td>0</td>\n",
       "      <td>1</td>\n",
       "    </tr>\n",
       "    <tr>\n",
       "      <th>3</th>\n",
       "      <td>0</td>\n",
       "      <td>0</td>\n",
       "      <td>4</td>\n",
       "      <td>0</td>\n",
       "    </tr>\n",
       "  </tbody>\n",
       "</table>\n",
       "</div>"
      ],
      "text/plain": [
       "K-means                   0  1  2  3\n",
       "Agglomerative Clustering            \n",
       "0                         8  0  0  1\n",
       "1                         0  0  0  7\n",
       "2                         0  8  0  1\n",
       "3                         0  0  4  0"
      ]
     },
     "execution_count": 14,
     "metadata": {},
     "output_type": "execute_result"
    }
   ],
   "source": [
    "pandas.crosstab(acluster.labels_,kmeans.labels_,rownames=['Agglomerative Clustering'],colnames=['K-means'])"
   ]
  },
  {
   "cell_type": "code",
   "execution_count": 15,
   "metadata": {},
   "outputs": [
    {
     "data": {
      "image/png": "[encoded data removed]",
      "text/plain": [
       "<Figure size 432x288 with 1 Axes>"
      ]
     },
     "metadata": {
      "needs_background": "light"
     },
     "output_type": "display_data"
    }
   ],
   "source": [
    "from sklearn.decomposition import PCA\n",
    "acp= PCA(n_components =2).fit_transform(fromage)\n",
    "for couleur,k in zip(['red','blue','lawngreen', 'aqua'],[0,1,2,3]):\n",
    "    plt.scatter(acp[acluster.labels_==k,0],acp[acluster.labels_==k,1],c=couleur)\n",
    "plt.show()"
   ]
  },
  {
   "cell_type": "code",
   "execution_count": 16,
   "metadata": {},
   "outputs": [
    {
     "name": "stdout",
     "output_type": "stream",
     "text": [
      "[0.52134151 0.36462293 0.31556786 0.29047977 0.26590169 0.25366641\n",
      " 0.26811403 0.26090835 0.25588299]\n"
     ]
    },
    {
     "data": {
      "text/plain": [
       "<function matplotlib.pyplot.show(close=None, block=None)>"
      ]
     },
     "execution_count": 16,
     "metadata": {},
     "output_type": "execute_result"
    },
    {
     "data": {
      "image/png": "[encoded data removed]",
      "text/plain": [
       "<Figure size 432x288 with 1 Axes>"
      ]
     },
     "metadata": {
      "needs_background": "light"
     },
     "output_type": "display_data"
    }
   ],
   "source": [
    "from sklearn import metrics\n",
    "#utilisation de la métrique \"silhouette\" \n",
    "res = np.arange(9,dtype =\"double\")\n",
    "for k in np.arange(9):\n",
    "    ac = cluster.AgglomerativeClustering(n_clusters =k+2)\n",
    "    ac.fit(fromage)\n",
    "    res[k] = metrics.silhouette_score(fromage,ac.labels_)\n",
    "print (res)\n",
    "#graphique\n",
    "import matplotlib.pyplot as plt\n",
    "plt.title(\"silhouette\")\n",
    "plt.xlabel(\"# of clusters\")\n",
    "plt.plot(np.arange(2,11,1),(res))\n",
    "plt.show"
   ]
  },
  {
   "cell_type": "markdown",
   "metadata": {},
   "source": [
    "#### <font color='palevioletred'> valeurs par défaut : (2 clusters) : </font>\n",
    "<font color='grey'> **AgglomerativeClustering(n_clusters=2, *, affinity='euclidean', memory=None, connectivity=None, compute_full_tree='auto', linkage='ward', distance_threshold=None, compute_distances=False)** </font>"
   ]
  },
  {
   "cell_type": "code",
   "execution_count": 17,
   "metadata": {},
   "outputs": [
    {
     "name": "stdout",
     "output_type": "stream",
     "text": [
      "             Fromages\n",
      "0         SaintPaulin\n",
      "0            Beaufort\n",
      "0            Parmesan\n",
      "0              Cantal\n",
      "0             Cheddar\n",
      "0               Comte\n",
      "0            Vacherin\n",
      "0                Edam\n",
      "0            Emmental\n",
      "0         CarredelEst\n",
      "0          Rocquefort\n",
      "0             Morbier\n",
      "0           Maroilles\n",
      "0         Fr.fondu.45\n",
      "0           Camembert\n",
      "0                Bleu\n",
      "0         Coulomniers\n",
      "0            Chaource\n",
      "0           Chabichou\n",
      "0         PontlEveque\n",
      "0            Pyrenees\n",
      "0           Reblochon\n",
      "0             Babybel\n",
      "0                Tome\n",
      "0  Fr.chevrepatemolle\n",
      "1      Fr.frais20nat.\n",
      "1      Fr.frais40nat.\n",
      "1       Petitsuisse40\n",
      "1  Yaourtlaitent.nat.\n"
     ]
    },
    {
     "data": {
      "image/png": "[encoded data removed]",
      "text/plain": [
       "<Figure size 432x288 with 1 Axes>"
      ]
     },
     "metadata": {
      "needs_background": "light"
     },
     "output_type": "display_data"
    }
   ],
   "source": [
    "dacluster = AgglomerativeClustering().fit(fromage)\n",
    "idx = np.argsort(dacluster.labels_)\n",
    "print(pd.DataFrame(fromage.index[idk],dacluster.labels_[idk]))\n",
    "# interprétation des classes\n",
    "from sklearn.decomposition import PCA\n",
    "acp = PCA(n_components =2).fit_transform(fromage)\n",
    "for couleur,k in zip(['red','blue','lawngreen', 'aqua'],[0,1,2,3]):\n",
    " plt.scatter(acp[dacluster.labels_==k,0],acp[dacluster.labels_==k,1],c=couleur)\n",
    "plt.show()"
   ]
  },
  {
   "cell_type": "markdown",
   "metadata": {},
   "source": [
    "## <font color='limegreen' size=5> Implémentez un algorithme hiérarchique descendant (divisive clustering) basé sur l’utilisation de k-means </font>"
   ]
  },
  {
   "cell_type": "code",
   "execution_count": 18,
   "metadata": {},
   "outputs": [
    {
     "name": "stdout",
     "output_type": "stream",
     "text": [
      "Etape :  1\n"
     ]
    },
    {
     "data": {
      "image/png": "[encoded data removed]",
      "text/plain": [
       "<Figure size 432x288 with 1 Axes>"
      ]
     },
     "metadata": {
      "needs_background": "light"
     },
     "output_type": "display_data"
    },
    {
     "name": "stdout",
     "output_type": "stream",
     "text": [
      "Etape :  2\n"
     ]
    },
    {
     "data": {
      "image/png": "[encoded data removed]",
      "text/plain": [
       "<Figure size 432x288 with 1 Axes>"
      ]
     },
     "metadata": {
      "needs_background": "light"
     },
     "output_type": "display_data"
    },
    {
     "name": "stdout",
     "output_type": "stream",
     "text": [
      "Etape :  3\n"
     ]
    },
    {
     "data": {
      "image/png": "[encoded data removed]",
      "text/plain": [
       "<Figure size 432x288 with 1 Axes>"
      ]
     },
     "metadata": {
      "needs_background": "light"
     },
     "output_type": "display_data"
    }
   ],
   "source": [
    "from sklearn import cluster\n",
    "from itertools import cycle\n",
    "\n",
    "def diana(df: pd.DataFrame, n_clusters: int , steps: bool = False):\n",
    "  df = df.reset_index(drop=True)\n",
    "  df[\"idx\"] = df.index\n",
    "  clusters = [df]\n",
    "  acp = PCA(n_components =2).fit_transform(df.drop([\"idx\"], axis=1))\n",
    "  colors = cycle(['#c71585','cyan','hotpink', '#87cefa', \"yellow\", \"#ff1493\", \"#7fff00\", \"#9932cc\", \"orange\"])\n",
    "\n",
    "  i = 0\n",
    "  while len(clusters) < n_clusters:\n",
    "    i = i + 1\n",
    "    \n",
    "    # trouver le cluster ayant la taille la plus grande pour le diviser\n",
    "    cluster_to_split_idx = np.argmax([len(cluster.index) for cluster in clusters])\n",
    "    df = clusters[cluster_to_split_idx]\n",
    "    \n",
    "    # diviser en utilisant KMeans\n",
    "    kmeans = cluster.KMeans(n_clusters = 2)\n",
    "    kmeans.fit(df.drop([\"idx\"], axis=1))\n",
    "    cluster1 = df[kmeans.labels_==0].copy().reset_index(drop=True)\n",
    "    cluster2 = df[kmeans.labels_==1].copy().reset_index(drop=True)\n",
    "\n",
    "    # supprimer le cluster choisit pour la division\n",
    "    # ajouter les deux nouveaux clusters\n",
    "    del clusters[cluster_to_split_idx]\n",
    "    clusters.append(cluster1)\n",
    "    clusters.append(cluster2)\n",
    "\n",
    "    # si steps est true, plotter les scatters des itérations\n",
    "    if steps:\n",
    "      print(\"Etape : \", i)\n",
    "      for clt, color in zip(clusters, colors):\n",
    "        plt.scatter(acp[list(clt[\"idx\"]),0], acp[list(clt[\"idx\"]),1],c=color,s=50)\n",
    "      plt.show()\n",
    "\n",
    "diana(fromage, 4, steps=True)"
   ]
  }
 ],
 "metadata": {
  "kernelspec": {
   "display_name": "Python 3",
   "language": "python",
   "name": "python3"
  },
  "language_info": {
   "codemirror_mode": {
    "name": "ipython",
    "version": 3
   },
   "file_extension": ".py",
   "mimetype": "text/x-python",
   "name": "python",
   "nbconvert_exporter": "python",
   "pygments_lexer": "ipython3",
   "version": "3.8.5"
  }
 },
 "nbformat": 4,
 "nbformat_minor": 4
}
